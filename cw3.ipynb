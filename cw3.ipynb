{
 "cells": [
  {
   "cell_type": "code",
   "execution_count": 1,
   "id": "22792fcc",
   "metadata": {},
   "outputs": [],
   "source": [
    "import sys\n",
    "assert sys.version_info >= (3, 5)\n",
    "# Scikit-Learn ≥0.20 is required\n",
    "import sklearn\n",
    "assert sklearn.__version__ >= \"0.20\"\n",
    "import numpy as np\n",
    "import os\n",
    "import tarfile\n",
    "import urllib\n",
    "import pandas as pd\n",
    "import urllib.request\n",
    "%matplotlib inline\n",
    "import matplotlib as mpl\n",
    "import matplotlib.pyplot as plt\n",
    "from sklearn import naive_bayes\n",
    "from sklearn.model_selection import train_test_split"
   ]
  },
  {
   "cell_type": "markdown",
   "id": "449a1e4b",
   "metadata": {},
   "source": [
    "# chose dataset as interested in cars and plenty of data to use"
   ]
  },
  {
   "cell_type": "code",
   "execution_count": 2,
   "id": "f97fbd38",
   "metadata": {},
   "outputs": [
    {
     "data": {
      "text/html": [
       "<div>\n",
       "<style scoped>\n",
       "    .dataframe tbody tr th:only-of-type {\n",
       "        vertical-align: middle;\n",
       "    }\n",
       "\n",
       "    .dataframe tbody tr th {\n",
       "        vertical-align: top;\n",
       "    }\n",
       "\n",
       "    .dataframe thead th {\n",
       "        text-align: right;\n",
       "    }\n",
       "</style>\n",
       "<table border=\"1\" class=\"dataframe\">\n",
       "  <thead>\n",
       "    <tr style=\"text-align: right;\">\n",
       "      <th></th>\n",
       "      <th>mpg</th>\n",
       "      <th>cylinders</th>\n",
       "      <th>displacement</th>\n",
       "      <th>horsepower</th>\n",
       "      <th>weight</th>\n",
       "      <th>acceleration</th>\n",
       "      <th>model year</th>\n",
       "      <th>origin</th>\n",
       "      <th>car name</th>\n",
       "    </tr>\n",
       "  </thead>\n",
       "  <tbody>\n",
       "    <tr>\n",
       "      <th>0</th>\n",
       "      <td>18.0</td>\n",
       "      <td>8</td>\n",
       "      <td>307.0</td>\n",
       "      <td>130</td>\n",
       "      <td>3504</td>\n",
       "      <td>12.0</td>\n",
       "      <td>70</td>\n",
       "      <td>1</td>\n",
       "      <td>chevrolet chevelle malibu</td>\n",
       "    </tr>\n",
       "    <tr>\n",
       "      <th>1</th>\n",
       "      <td>15.0</td>\n",
       "      <td>8</td>\n",
       "      <td>350.0</td>\n",
       "      <td>165</td>\n",
       "      <td>3693</td>\n",
       "      <td>11.5</td>\n",
       "      <td>70</td>\n",
       "      <td>1</td>\n",
       "      <td>buick skylark 320</td>\n",
       "    </tr>\n",
       "    <tr>\n",
       "      <th>2</th>\n",
       "      <td>18.0</td>\n",
       "      <td>8</td>\n",
       "      <td>318.0</td>\n",
       "      <td>150</td>\n",
       "      <td>3436</td>\n",
       "      <td>11.0</td>\n",
       "      <td>70</td>\n",
       "      <td>1</td>\n",
       "      <td>plymouth satellite</td>\n",
       "    </tr>\n",
       "    <tr>\n",
       "      <th>3</th>\n",
       "      <td>16.0</td>\n",
       "      <td>8</td>\n",
       "      <td>304.0</td>\n",
       "      <td>150</td>\n",
       "      <td>3433</td>\n",
       "      <td>12.0</td>\n",
       "      <td>70</td>\n",
       "      <td>1</td>\n",
       "      <td>amc rebel sst</td>\n",
       "    </tr>\n",
       "    <tr>\n",
       "      <th>4</th>\n",
       "      <td>17.0</td>\n",
       "      <td>8</td>\n",
       "      <td>302.0</td>\n",
       "      <td>140</td>\n",
       "      <td>3449</td>\n",
       "      <td>10.5</td>\n",
       "      <td>70</td>\n",
       "      <td>1</td>\n",
       "      <td>ford torino</td>\n",
       "    </tr>\n",
       "    <tr>\n",
       "      <th>5</th>\n",
       "      <td>15.0</td>\n",
       "      <td>8</td>\n",
       "      <td>429.0</td>\n",
       "      <td>198</td>\n",
       "      <td>4341</td>\n",
       "      <td>10.0</td>\n",
       "      <td>70</td>\n",
       "      <td>1</td>\n",
       "      <td>ford galaxie 500</td>\n",
       "    </tr>\n",
       "    <tr>\n",
       "      <th>6</th>\n",
       "      <td>14.0</td>\n",
       "      <td>8</td>\n",
       "      <td>454.0</td>\n",
       "      <td>220</td>\n",
       "      <td>4354</td>\n",
       "      <td>9.0</td>\n",
       "      <td>70</td>\n",
       "      <td>1</td>\n",
       "      <td>chevrolet impala</td>\n",
       "    </tr>\n",
       "    <tr>\n",
       "      <th>7</th>\n",
       "      <td>14.0</td>\n",
       "      <td>8</td>\n",
       "      <td>440.0</td>\n",
       "      <td>215</td>\n",
       "      <td>4312</td>\n",
       "      <td>8.5</td>\n",
       "      <td>70</td>\n",
       "      <td>1</td>\n",
       "      <td>plymouth fury iii</td>\n",
       "    </tr>\n",
       "    <tr>\n",
       "      <th>8</th>\n",
       "      <td>14.0</td>\n",
       "      <td>8</td>\n",
       "      <td>455.0</td>\n",
       "      <td>225</td>\n",
       "      <td>4425</td>\n",
       "      <td>10.0</td>\n",
       "      <td>70</td>\n",
       "      <td>1</td>\n",
       "      <td>pontiac catalina</td>\n",
       "    </tr>\n",
       "    <tr>\n",
       "      <th>9</th>\n",
       "      <td>15.0</td>\n",
       "      <td>8</td>\n",
       "      <td>390.0</td>\n",
       "      <td>190</td>\n",
       "      <td>3850</td>\n",
       "      <td>8.5</td>\n",
       "      <td>70</td>\n",
       "      <td>1</td>\n",
       "      <td>amc ambassador dpl</td>\n",
       "    </tr>\n",
       "  </tbody>\n",
       "</table>\n",
       "</div>"
      ],
      "text/plain": [
       "    mpg  cylinders  displacement horsepower  weight  acceleration  model year  \\\n",
       "0  18.0          8         307.0        130    3504          12.0          70   \n",
       "1  15.0          8         350.0        165    3693          11.5          70   \n",
       "2  18.0          8         318.0        150    3436          11.0          70   \n",
       "3  16.0          8         304.0        150    3433          12.0          70   \n",
       "4  17.0          8         302.0        140    3449          10.5          70   \n",
       "5  15.0          8         429.0        198    4341          10.0          70   \n",
       "6  14.0          8         454.0        220    4354           9.0          70   \n",
       "7  14.0          8         440.0        215    4312           8.5          70   \n",
       "8  14.0          8         455.0        225    4425          10.0          70   \n",
       "9  15.0          8         390.0        190    3850           8.5          70   \n",
       "\n",
       "   origin                   car name  \n",
       "0       1  chevrolet chevelle malibu  \n",
       "1       1          buick skylark 320  \n",
       "2       1         plymouth satellite  \n",
       "3       1              amc rebel sst  \n",
       "4       1                ford torino  \n",
       "5       1           ford galaxie 500  \n",
       "6       1           chevrolet impala  \n",
       "7       1          plymouth fury iii  \n",
       "8       1           pontiac catalina  \n",
       "9       1         amc ambassador dpl  "
      ]
     },
     "execution_count": 2,
     "metadata": {},
     "output_type": "execute_result"
    }
   ],
   "source": [
    "import pandas as pd\n",
    "pd.read_csv('/Users/fraser/Desktop/4th YEAR/Machine Learning/Python/auto-mpg.csv', engine = 'python')\n",
    "data =pd.read_csv ('/Users/fraser/Desktop/4th YEAR/Machine Learning/Python/auto-mpg.csv',engine='python')\n",
    "data.head(10)"
   ]
  },
  {
   "cell_type": "code",
   "execution_count": 3,
   "id": "14eee5a7",
   "metadata": {},
   "outputs": [
    {
     "name": "stdout",
     "output_type": "stream",
     "text": [
      "<class 'pandas.core.frame.DataFrame'>\n",
      "RangeIndex: 398 entries, 0 to 397\n",
      "Data columns (total 9 columns):\n",
      " #   Column        Non-Null Count  Dtype  \n",
      "---  ------        --------------  -----  \n",
      " 0   mpg           398 non-null    float64\n",
      " 1   cylinders     398 non-null    int64  \n",
      " 2   displacement  398 non-null    float64\n",
      " 3   horsepower    398 non-null    object \n",
      " 4   weight        398 non-null    int64  \n",
      " 5   acceleration  398 non-null    float64\n",
      " 6   model year    398 non-null    int64  \n",
      " 7   origin        398 non-null    int64  \n",
      " 8   car name      398 non-null    object \n",
      "dtypes: float64(3), int64(4), object(2)\n",
      "memory usage: 28.1+ KB\n"
     ]
    }
   ],
   "source": [
    "data.info()"
   ]
  },
  {
   "cell_type": "code",
   "execution_count": 4,
   "id": "1ef9a072",
   "metadata": {},
   "outputs": [
    {
     "data": {
      "text/html": [
       "<div>\n",
       "<style scoped>\n",
       "    .dataframe tbody tr th:only-of-type {\n",
       "        vertical-align: middle;\n",
       "    }\n",
       "\n",
       "    .dataframe tbody tr th {\n",
       "        vertical-align: top;\n",
       "    }\n",
       "\n",
       "    .dataframe thead th {\n",
       "        text-align: right;\n",
       "    }\n",
       "</style>\n",
       "<table border=\"1\" class=\"dataframe\">\n",
       "  <thead>\n",
       "    <tr style=\"text-align: right;\">\n",
       "      <th></th>\n",
       "      <th>mpg</th>\n",
       "      <th>cylinders</th>\n",
       "      <th>displacement</th>\n",
       "      <th>weight</th>\n",
       "      <th>acceleration</th>\n",
       "      <th>model year</th>\n",
       "      <th>origin</th>\n",
       "    </tr>\n",
       "  </thead>\n",
       "  <tbody>\n",
       "    <tr>\n",
       "      <th>count</th>\n",
       "      <td>398.000000</td>\n",
       "      <td>398.000000</td>\n",
       "      <td>398.000000</td>\n",
       "      <td>398.000000</td>\n",
       "      <td>398.000000</td>\n",
       "      <td>398.000000</td>\n",
       "      <td>398.000000</td>\n",
       "    </tr>\n",
       "    <tr>\n",
       "      <th>mean</th>\n",
       "      <td>23.514573</td>\n",
       "      <td>5.454774</td>\n",
       "      <td>193.425879</td>\n",
       "      <td>2970.424623</td>\n",
       "      <td>15.568090</td>\n",
       "      <td>76.010050</td>\n",
       "      <td>1.572864</td>\n",
       "    </tr>\n",
       "    <tr>\n",
       "      <th>std</th>\n",
       "      <td>7.815984</td>\n",
       "      <td>1.701004</td>\n",
       "      <td>104.269838</td>\n",
       "      <td>846.841774</td>\n",
       "      <td>2.757689</td>\n",
       "      <td>3.697627</td>\n",
       "      <td>0.802055</td>\n",
       "    </tr>\n",
       "    <tr>\n",
       "      <th>min</th>\n",
       "      <td>9.000000</td>\n",
       "      <td>3.000000</td>\n",
       "      <td>68.000000</td>\n",
       "      <td>1613.000000</td>\n",
       "      <td>8.000000</td>\n",
       "      <td>70.000000</td>\n",
       "      <td>1.000000</td>\n",
       "    </tr>\n",
       "    <tr>\n",
       "      <th>25%</th>\n",
       "      <td>17.500000</td>\n",
       "      <td>4.000000</td>\n",
       "      <td>104.250000</td>\n",
       "      <td>2223.750000</td>\n",
       "      <td>13.825000</td>\n",
       "      <td>73.000000</td>\n",
       "      <td>1.000000</td>\n",
       "    </tr>\n",
       "    <tr>\n",
       "      <th>50%</th>\n",
       "      <td>23.000000</td>\n",
       "      <td>4.000000</td>\n",
       "      <td>148.500000</td>\n",
       "      <td>2803.500000</td>\n",
       "      <td>15.500000</td>\n",
       "      <td>76.000000</td>\n",
       "      <td>1.000000</td>\n",
       "    </tr>\n",
       "    <tr>\n",
       "      <th>75%</th>\n",
       "      <td>29.000000</td>\n",
       "      <td>8.000000</td>\n",
       "      <td>262.000000</td>\n",
       "      <td>3608.000000</td>\n",
       "      <td>17.175000</td>\n",
       "      <td>79.000000</td>\n",
       "      <td>2.000000</td>\n",
       "    </tr>\n",
       "    <tr>\n",
       "      <th>max</th>\n",
       "      <td>46.600000</td>\n",
       "      <td>8.000000</td>\n",
       "      <td>455.000000</td>\n",
       "      <td>5140.000000</td>\n",
       "      <td>24.800000</td>\n",
       "      <td>82.000000</td>\n",
       "      <td>3.000000</td>\n",
       "    </tr>\n",
       "  </tbody>\n",
       "</table>\n",
       "</div>"
      ],
      "text/plain": [
       "              mpg   cylinders  displacement       weight  acceleration  \\\n",
       "count  398.000000  398.000000    398.000000   398.000000    398.000000   \n",
       "mean    23.514573    5.454774    193.425879  2970.424623     15.568090   \n",
       "std      7.815984    1.701004    104.269838   846.841774      2.757689   \n",
       "min      9.000000    3.000000     68.000000  1613.000000      8.000000   \n",
       "25%     17.500000    4.000000    104.250000  2223.750000     13.825000   \n",
       "50%     23.000000    4.000000    148.500000  2803.500000     15.500000   \n",
       "75%     29.000000    8.000000    262.000000  3608.000000     17.175000   \n",
       "max     46.600000    8.000000    455.000000  5140.000000     24.800000   \n",
       "\n",
       "       model year      origin  \n",
       "count  398.000000  398.000000  \n",
       "mean    76.010050    1.572864  \n",
       "std      3.697627    0.802055  \n",
       "min     70.000000    1.000000  \n",
       "25%     73.000000    1.000000  \n",
       "50%     76.000000    1.000000  \n",
       "75%     79.000000    2.000000  \n",
       "max     82.000000    3.000000  "
      ]
     },
     "execution_count": 4,
     "metadata": {},
     "output_type": "execute_result"
    }
   ],
   "source": [
    "data.describe()"
   ]
  },
  {
   "cell_type": "code",
   "execution_count": 5,
   "id": "d9e4be94",
   "metadata": {},
   "outputs": [
    {
     "data": {
      "image/png": "[encoded data removed]",
      "text/plain": [
       "<Figure size 1440x1080 with 9 Axes>"
      ]
     },
     "metadata": {
      "needs_background": "light"
     },
     "output_type": "display_data"
    }
   ],
   "source": [
    "data.hist(bins=20, figsize=(20,15))\n",
    "plt.show()"
   ]
  },
  {
   "cell_type": "markdown",
   "id": "e59edd53",
   "metadata": {},
   "source": [
    "# Removing ?s noticed when looking at dataset "
   ]
  },
  {
   "cell_type": "code",
   "execution_count": 6,
   "id": "42f2bc02",
   "metadata": {},
   "outputs": [
    {
     "data": {
      "text/plain": [
       "6"
      ]
     },
     "execution_count": 6,
     "metadata": {},
     "output_type": "execute_result"
    }
   ],
   "source": [
    "data.horsepower.str.contains('\\?').sum()"
   ]
  },
  {
   "cell_type": "code",
   "execution_count": 7,
   "id": "e2d76797",
   "metadata": {},
   "outputs": [],
   "source": [
    "data.horsepower.replace('?',np.nan,inplace=True)"
   ]
  },
  {
   "cell_type": "code",
   "execution_count": 8,
   "id": "4e358132",
   "metadata": {},
   "outputs": [
    {
     "data": {
      "text/plain": [
       "0"
      ]
     },
     "execution_count": 8,
     "metadata": {},
     "output_type": "execute_result"
    }
   ],
   "source": [
    "data.horsepower.str.contains('\\?').sum()"
   ]
  },
  {
   "cell_type": "code",
   "execution_count": 9,
   "id": "7a93ec50",
   "metadata": {},
   "outputs": [
    {
     "data": {
      "text/plain": [
       "mpg             0\n",
       "cylinders       0\n",
       "displacement    0\n",
       "horsepower      6\n",
       "weight          0\n",
       "acceleration    0\n",
       "model year      0\n",
       "origin          0\n",
       "car name        0\n",
       "dtype: int64"
      ]
     },
     "execution_count": 9,
     "metadata": {},
     "output_type": "execute_result"
    }
   ],
   "source": [
    "data.isna().sum()"
   ]
  },
  {
   "cell_type": "code",
   "execution_count": 10,
   "id": "6c1bdf61",
   "metadata": {},
   "outputs": [],
   "source": [
    "data.dropna(subset=[\"horsepower\"],axis=0,inplace=True)"
   ]
  },
  {
   "cell_type": "code",
   "execution_count": 11,
   "id": "1dc20140",
   "metadata": {},
   "outputs": [
    {
     "data": {
      "text/plain": [
       "mpg             0\n",
       "cylinders       0\n",
       "displacement    0\n",
       "horsepower      0\n",
       "weight          0\n",
       "acceleration    0\n",
       "model year      0\n",
       "origin          0\n",
       "car name        0\n",
       "dtype: int64"
      ]
     },
     "execution_count": 11,
     "metadata": {},
     "output_type": "execute_result"
    }
   ],
   "source": [
    "data.isna().sum()"
   ]
  },
  {
   "cell_type": "code",
   "execution_count": 12,
   "id": "d60771d0",
   "metadata": {},
   "outputs": [
    {
     "data": {
      "text/html": [
       "<div>\n",
       "<style scoped>\n",
       "    .dataframe tbody tr th:only-of-type {\n",
       "        vertical-align: middle;\n",
       "    }\n",
       "\n",
       "    .dataframe tbody tr th {\n",
       "        vertical-align: top;\n",
       "    }\n",
       "\n",
       "    .dataframe thead th {\n",
       "        text-align: right;\n",
       "    }\n",
       "</style>\n",
       "<table border=\"1\" class=\"dataframe\">\n",
       "  <thead>\n",
       "    <tr style=\"text-align: right;\">\n",
       "      <th></th>\n",
       "      <th>mpg</th>\n",
       "      <th>cylinders</th>\n",
       "      <th>displacement</th>\n",
       "      <th>horsepower</th>\n",
       "      <th>weight</th>\n",
       "      <th>acceleration</th>\n",
       "      <th>model year</th>\n",
       "      <th>origin</th>\n",
       "      <th>car name</th>\n",
       "    </tr>\n",
       "  </thead>\n",
       "  <tbody>\n",
       "    <tr>\n",
       "      <th>0</th>\n",
       "      <td>18.0</td>\n",
       "      <td>8</td>\n",
       "      <td>307.0</td>\n",
       "      <td>130</td>\n",
       "      <td>3504</td>\n",
       "      <td>12.0</td>\n",
       "      <td>70</td>\n",
       "      <td>1</td>\n",
       "      <td>chevrolet chevelle malibu</td>\n",
       "    </tr>\n",
       "    <tr>\n",
       "      <th>1</th>\n",
       "      <td>15.0</td>\n",
       "      <td>8</td>\n",
       "      <td>350.0</td>\n",
       "      <td>165</td>\n",
       "      <td>3693</td>\n",
       "      <td>11.5</td>\n",
       "      <td>70</td>\n",
       "      <td>1</td>\n",
       "      <td>buick skylark 320</td>\n",
       "    </tr>\n",
       "    <tr>\n",
       "      <th>2</th>\n",
       "      <td>18.0</td>\n",
       "      <td>8</td>\n",
       "      <td>318.0</td>\n",
       "      <td>150</td>\n",
       "      <td>3436</td>\n",
       "      <td>11.0</td>\n",
       "      <td>70</td>\n",
       "      <td>1</td>\n",
       "      <td>plymouth satellite</td>\n",
       "    </tr>\n",
       "    <tr>\n",
       "      <th>3</th>\n",
       "      <td>16.0</td>\n",
       "      <td>8</td>\n",
       "      <td>304.0</td>\n",
       "      <td>150</td>\n",
       "      <td>3433</td>\n",
       "      <td>12.0</td>\n",
       "      <td>70</td>\n",
       "      <td>1</td>\n",
       "      <td>amc rebel sst</td>\n",
       "    </tr>\n",
       "    <tr>\n",
       "      <th>4</th>\n",
       "      <td>17.0</td>\n",
       "      <td>8</td>\n",
       "      <td>302.0</td>\n",
       "      <td>140</td>\n",
       "      <td>3449</td>\n",
       "      <td>10.5</td>\n",
       "      <td>70</td>\n",
       "      <td>1</td>\n",
       "      <td>ford torino</td>\n",
       "    </tr>\n",
       "  </tbody>\n",
       "</table>\n",
       "</div>"
      ],
      "text/plain": [
       "    mpg  cylinders  displacement horsepower  weight  acceleration  model year  \\\n",
       "0  18.0          8         307.0        130    3504          12.0          70   \n",
       "1  15.0          8         350.0        165    3693          11.5          70   \n",
       "2  18.0          8         318.0        150    3436          11.0          70   \n",
       "3  16.0          8         304.0        150    3433          12.0          70   \n",
       "4  17.0          8         302.0        140    3449          10.5          70   \n",
       "\n",
       "   origin                   car name  \n",
       "0       1  chevrolet chevelle malibu  \n",
       "1       1          buick skylark 320  \n",
       "2       1         plymouth satellite  \n",
       "3       1              amc rebel sst  \n",
       "4       1                ford torino  "
      ]
     },
     "execution_count": 12,
     "metadata": {},
     "output_type": "execute_result"
    }
   ],
   "source": [
    "data.head()"
   ]
  },
  {
   "cell_type": "markdown",
   "id": "29a92842",
   "metadata": {},
   "source": [
    "# Changing hp to int to be used in nb classifier"
   ]
  },
  {
   "cell_type": "code",
   "execution_count": 13,
   "id": "69542c5b",
   "metadata": {},
   "outputs": [],
   "source": [
    "data['horsepower'] = data['horsepower'].astype(str).astype(int)"
   ]
  },
  {
   "cell_type": "code",
   "execution_count": 14,
   "id": "ac257fae",
   "metadata": {},
   "outputs": [],
   "source": [
    "from sklearn.naive_bayes import GaussianNB"
   ]
  },
  {
   "cell_type": "markdown",
   "id": "aa9491fb",
   "metadata": {},
   "source": [
    "# Find corraltion between car and its mpg"
   ]
  },
  {
   "cell_type": "code",
   "execution_count": 15,
   "id": "f15de5ef",
   "metadata": {},
   "outputs": [],
   "source": [
    "X = data[[\"cylinders\",\"displacement\", \"weight\", \"acceleration\", \"horsepower\"]]\n",
    "y = data[\"mpg\"]"
   ]
  },
  {
   "cell_type": "code",
   "execution_count": 16,
   "id": "076f51cb",
   "metadata": {},
   "outputs": [],
   "source": [
    "y=y.astype('int')"
   ]
  },
  {
   "cell_type": "code",
   "execution_count": 17,
   "id": "933fe1bd",
   "metadata": {},
   "outputs": [
    {
     "data": {
      "text/html": [
       "<div>\n",
       "<style scoped>\n",
       "    .dataframe tbody tr th:only-of-type {\n",
       "        vertical-align: middle;\n",
       "    }\n",
       "\n",
       "    .dataframe tbody tr th {\n",
       "        vertical-align: top;\n",
       "    }\n",
       "\n",
       "    .dataframe thead th {\n",
       "        text-align: right;\n",
       "    }\n",
       "</style>\n",
       "<table border=\"1\" class=\"dataframe\">\n",
       "  <thead>\n",
       "    <tr style=\"text-align: right;\">\n",
       "      <th></th>\n",
       "      <th>cylinders</th>\n",
       "      <th>displacement</th>\n",
       "      <th>weight</th>\n",
       "      <th>acceleration</th>\n",
       "      <th>horsepower</th>\n",
       "    </tr>\n",
       "  </thead>\n",
       "  <tbody>\n",
       "    <tr>\n",
       "      <th>0</th>\n",
       "      <td>8</td>\n",
       "      <td>307.0</td>\n",
       "      <td>3504</td>\n",
       "      <td>12.0</td>\n",
       "      <td>130</td>\n",
       "    </tr>\n",
       "    <tr>\n",
       "      <th>1</th>\n",
       "      <td>8</td>\n",
       "      <td>350.0</td>\n",
       "      <td>3693</td>\n",
       "      <td>11.5</td>\n",
       "      <td>165</td>\n",
       "    </tr>\n",
       "    <tr>\n",
       "      <th>2</th>\n",
       "      <td>8</td>\n",
       "      <td>318.0</td>\n",
       "      <td>3436</td>\n",
       "      <td>11.0</td>\n",
       "      <td>150</td>\n",
       "    </tr>\n",
       "    <tr>\n",
       "      <th>3</th>\n",
       "      <td>8</td>\n",
       "      <td>304.0</td>\n",
       "      <td>3433</td>\n",
       "      <td>12.0</td>\n",
       "      <td>150</td>\n",
       "    </tr>\n",
       "    <tr>\n",
       "      <th>4</th>\n",
       "      <td>8</td>\n",
       "      <td>302.0</td>\n",
       "      <td>3449</td>\n",
       "      <td>10.5</td>\n",
       "      <td>140</td>\n",
       "    </tr>\n",
       "  </tbody>\n",
       "</table>\n",
       "</div>"
      ],
      "text/plain": [
       "   cylinders  displacement  weight  acceleration  horsepower\n",
       "0          8         307.0    3504          12.0         130\n",
       "1          8         350.0    3693          11.5         165\n",
       "2          8         318.0    3436          11.0         150\n",
       "3          8         304.0    3433          12.0         150\n",
       "4          8         302.0    3449          10.5         140"
      ]
     },
     "execution_count": 17,
     "metadata": {},
     "output_type": "execute_result"
    }
   ],
   "source": [
    "X.head()"
   ]
  },
  {
   "cell_type": "code",
   "execution_count": 18,
   "id": "c6656106",
   "metadata": {},
   "outputs": [
    {
     "data": {
      "text/plain": [
       "0    18\n",
       "1    15\n",
       "2    18\n",
       "3    16\n",
       "4    17\n",
       "Name: mpg, dtype: int64"
      ]
     },
     "execution_count": 18,
     "metadata": {},
     "output_type": "execute_result"
    }
   ],
   "source": [
    "y.head()"
   ]
  },
  {
   "cell_type": "code",
   "execution_count": 19,
   "id": "5f43a929",
   "metadata": {},
   "outputs": [
    {
     "name": "stdout",
     "output_type": "stream",
     "text": [
      "<class 'pandas.core.frame.DataFrame'>\n",
      "Int64Index: 392 entries, 0 to 397\n",
      "Data columns (total 5 columns):\n",
      " #   Column        Non-Null Count  Dtype  \n",
      "---  ------        --------------  -----  \n",
      " 0   cylinders     392 non-null    int64  \n",
      " 1   displacement  392 non-null    float64\n",
      " 2   weight        392 non-null    int64  \n",
      " 3   acceleration  392 non-null    float64\n",
      " 4   horsepower    392 non-null    int64  \n",
      "dtypes: float64(2), int64(3)\n",
      "memory usage: 18.4 KB\n"
     ]
    }
   ],
   "source": [
    "X.info()"
   ]
  },
  {
   "cell_type": "code",
   "execution_count": 20,
   "id": "7f6e2537",
   "metadata": {},
   "outputs": [],
   "source": [
    "from sklearn.model_selection import train_test_split"
   ]
  },
  {
   "cell_type": "code",
   "execution_count": 21,
   "id": "109ce754",
   "metadata": {},
   "outputs": [],
   "source": [
    "Xtrain, Xtest, ytrain, ytest = train_test_split(X, y, random_state = 1)"
   ]
  },
  {
   "cell_type": "code",
   "execution_count": 22,
   "id": "2e9dccbd",
   "metadata": {},
   "outputs": [],
   "source": [
    "model = GaussianNB()"
   ]
  },
  {
   "cell_type": "code",
   "execution_count": 23,
   "id": "55adc47c",
   "metadata": {},
   "outputs": [
    {
     "data": {
      "text/plain": [
       "GaussianNB()"
      ]
     },
     "execution_count": 23,
     "metadata": {},
     "output_type": "execute_result"
    }
   ],
   "source": [
    "model.fit(Xtrain, ytrain)"
   ]
  },
  {
   "cell_type": "code",
   "execution_count": 24,
   "id": "3c0d001c",
   "metadata": {},
   "outputs": [],
   "source": [
    "from sklearn.metrics import accuracy_score"
   ]
  },
  {
   "cell_type": "code",
   "execution_count": 25,
   "id": "f81c01d7",
   "metadata": {},
   "outputs": [
    {
     "data": {
      "text/plain": [
       "array([20, 14, 28, 27, 20, 31, 34, 34, 20, 29, 13, 17, 39, 23, 37, 27, 14,\n",
       "       27, 18, 13, 28, 28, 44, 34, 18, 39, 13, 29, 27, 13, 27, 29, 34, 17,\n",
       "       13, 17, 20, 14, 27, 27, 11, 14, 28, 34, 21, 14, 27, 20, 34, 13, 13,\n",
       "       33, 29, 32, 14, 20, 15, 34, 34, 34, 12, 14, 18, 20, 13, 27, 13, 25,\n",
       "       27, 27, 20, 18, 32, 27, 13, 27, 12, 29, 13, 17, 34, 18, 21, 18, 34,\n",
       "       27, 39, 27, 28, 34, 13, 12, 28, 20, 33, 44, 20,  9, 27, 29, 18, 18,\n",
       "       27, 28, 30, 37, 18, 17, 18, 39, 13, 13, 28, 18, 13, 11, 39, 18, 18,\n",
       "       28, 27, 28, 27, 13, 28, 43, 18, 28, 27, 13, 34, 13, 27, 29, 13, 12,\n",
       "       31, 18, 27, 14, 20, 28, 14, 34, 27, 14, 14, 29, 14, 18, 35, 37, 18,\n",
       "       13, 13, 37, 34, 27, 27, 27, 34, 40, 14, 28, 20, 13, 27, 23, 34, 39,\n",
       "       33, 28, 29, 18, 27, 27, 12, 17, 28, 13, 28, 11, 29, 39, 27, 39, 23,\n",
       "       46, 14, 27, 20, 14, 27, 34, 34, 18, 28, 28, 34, 27, 20, 27, 13, 28,\n",
       "       39, 34, 13, 31, 13, 27, 18, 34, 18, 34, 37, 18, 13, 33, 20, 14, 20,\n",
       "       39, 34, 27, 13, 13, 28, 34, 34, 13, 20, 18, 34, 27, 28, 13, 18, 18,\n",
       "       18, 10, 33, 13, 20, 27, 27, 27, 38, 10, 28, 12, 27, 13, 28, 27, 27,\n",
       "       27, 27, 14, 27, 39, 34, 18, 27, 13, 27, 27, 28, 34, 14, 34, 13, 27,\n",
       "       21, 34, 13, 29, 14, 20, 18, 20, 37, 27, 20, 34, 13, 29, 34, 28, 18,\n",
       "       34, 20, 14, 38, 14])"
      ]
     },
     "execution_count": 25,
     "metadata": {},
     "output_type": "execute_result"
    }
   ],
   "source": [
    "y_pred = model.predict(Xtrain)\n",
    "y_pred\n"
   ]
  },
  {
   "cell_type": "code",
   "execution_count": 26,
   "id": "938d406e",
   "metadata": {},
   "outputs": [
    {
     "data": {
      "text/plain": [
       "24.489795918367346"
      ]
     },
     "execution_count": 26,
     "metadata": {},
     "output_type": "execute_result"
    }
   ],
   "source": [
    "accuracy = accuracy_score(ytrain, y_pred)*100\n",
    "accuracy"
   ]
  },
  {
   "cell_type": "code",
   "execution_count": 27,
   "id": "3db4bef5",
   "metadata": {},
   "outputs": [
    {
     "data": {
      "text/plain": [
       "24.489795918367346"
      ]
     },
     "execution_count": 27,
     "metadata": {},
     "output_type": "execute_result"
    }
   ],
   "source": [
    "from sklearn.metrics import precision_score, recall_score\n",
    "\n",
    "precision_score(ytrain, y_pred, average='micro')*100"
   ]
  },
  {
   "cell_type": "code",
   "execution_count": 28,
   "id": "adf3d0b8",
   "metadata": {},
   "outputs": [
    {
     "data": {
      "text/plain": [
       "34.92804027425876"
      ]
     },
     "execution_count": 28,
     "metadata": {},
     "output_type": "execute_result"
    }
   ],
   "source": [
    "from sklearn.metrics import f1_score\n",
    "f1_score(ytrain, y_pred, average='macro')*100"
   ]
  },
  {
   "cell_type": "code",
   "execution_count": 29,
   "id": "c2647c83",
   "metadata": {},
   "outputs": [],
   "source": [
    "from sklearn import metrics"
   ]
  },
  {
   "cell_type": "markdown",
   "id": "82c253c9",
   "metadata": {},
   "source": [
    "# Graph to show the corralation"
   ]
  },
  {
   "cell_type": "code",
   "execution_count": 30,
   "id": "9503264f",
   "metadata": {},
   "outputs": [],
   "source": [
    "import numpy as np\n",
    "import pandas as pd\n",
    "import seaborn as sns\n",
    "import matplotlib.pyplot as plt\n",
    "from sklearn.preprocessing import LabelEncoder, OneHotEncoder\n",
    "import warnings\n",
    "warnings.filterwarnings(\"ignore\")\n",
    "from sklearn.model_selection import train_test_split\n",
    "from sklearn.svm import SVC\n",
    "from sklearn.metrics import confusion_matrix\n",
    "np.random.seed(123)"
   ]
  },
  {
   "cell_type": "code",
   "execution_count": 31,
   "id": "a6336df5",
   "metadata": {},
   "outputs": [
    {
     "data": {
      "image/png": "[encoded data removed]",
      "text/plain": [
       "<Figure size 864x720 with 2 Axes>"
      ]
     },
     "metadata": {
      "needs_background": "light"
     },
     "output_type": "display_data"
    }
   ],
   "source": [
    "plt.figure(figsize=(12,10))\n",
    "corr = data.corr()\n",
    "sns.heatmap(corr, annot=True, cmap=plt.cm.Reds)\n",
    "plt.show()"
   ]
  },
  {
   "cell_type": "code",
   "execution_count": 32,
   "id": "cfd49b01",
   "metadata": {},
   "outputs": [
    {
     "data": {
      "text/plain": [
       "mpg             1.000000\n",
       "cylinders       0.777618\n",
       "displacement    0.805127\n",
       "horsepower      0.778427\n",
       "weight          0.832244\n",
       "model year      0.580541\n",
       "origin          0.565209\n",
       "Name: mpg, dtype: float64"
      ]
     },
     "execution_count": 32,
     "metadata": {},
     "output_type": "execute_result"
    }
   ],
   "source": [
    "threshold = 0.5\n",
    "a=abs(corr['mpg'])\n",
    "result=a[a>threshold]\n",
    "result "
   ]
  },
  {
   "cell_type": "code",
   "execution_count": 33,
   "id": "382ac0e9",
   "metadata": {},
   "outputs": [
    {
     "data": {
      "text/html": [
       "<div>\n",
       "<style scoped>\n",
       "    .dataframe tbody tr th:only-of-type {\n",
       "        vertical-align: middle;\n",
       "    }\n",
       "\n",
       "    .dataframe tbody tr th {\n",
       "        vertical-align: top;\n",
       "    }\n",
       "\n",
       "    .dataframe thead th {\n",
       "        text-align: right;\n",
       "    }\n",
       "</style>\n",
       "<table border=\"1\" class=\"dataframe\">\n",
       "  <thead>\n",
       "    <tr style=\"text-align: right;\">\n",
       "      <th></th>\n",
       "      <th>cylinders</th>\n",
       "      <th>displacement</th>\n",
       "    </tr>\n",
       "  </thead>\n",
       "  <tbody>\n",
       "    <tr>\n",
       "      <th>cylinders</th>\n",
       "      <td>1.000000</td>\n",
       "      <td>0.950823</td>\n",
       "    </tr>\n",
       "    <tr>\n",
       "      <th>displacement</th>\n",
       "      <td>0.950823</td>\n",
       "      <td>1.000000</td>\n",
       "    </tr>\n",
       "  </tbody>\n",
       "</table>\n",
       "</div>"
      ],
      "text/plain": [
       "              cylinders  displacement\n",
       "cylinders      1.000000      0.950823\n",
       "displacement   0.950823      1.000000"
      ]
     },
     "execution_count": 33,
     "metadata": {},
     "output_type": "execute_result"
    }
   ],
   "source": [
    "data[['cylinders','displacement']].corr()"
   ]
  },
  {
   "cell_type": "code",
   "execution_count": 34,
   "id": "42393047-a02b-4e47-8717-3b9765a31dce",
   "metadata": {},
   "outputs": [
    {
     "data": {
      "text/html": [
       "<div>\n",
       "<style scoped>\n",
       "    .dataframe tbody tr th:only-of-type {\n",
       "        vertical-align: middle;\n",
       "    }\n",
       "\n",
       "    .dataframe tbody tr th {\n",
       "        vertical-align: top;\n",
       "    }\n",
       "\n",
       "    .dataframe thead th {\n",
       "        text-align: right;\n",
       "    }\n",
       "</style>\n",
       "<table border=\"1\" class=\"dataframe\">\n",
       "  <thead>\n",
       "    <tr style=\"text-align: right;\">\n",
       "      <th></th>\n",
       "      <th>cylinders</th>\n",
       "      <th>horsepower</th>\n",
       "    </tr>\n",
       "  </thead>\n",
       "  <tbody>\n",
       "    <tr>\n",
       "      <th>cylinders</th>\n",
       "      <td>1.000000</td>\n",
       "      <td>0.842983</td>\n",
       "    </tr>\n",
       "    <tr>\n",
       "      <th>horsepower</th>\n",
       "      <td>0.842983</td>\n",
       "      <td>1.000000</td>\n",
       "    </tr>\n",
       "  </tbody>\n",
       "</table>\n",
       "</div>"
      ],
      "text/plain": [
       "            cylinders  horsepower\n",
       "cylinders    1.000000    0.842983\n",
       "horsepower   0.842983    1.000000"
      ]
     },
     "execution_count": 34,
     "metadata": {},
     "output_type": "execute_result"
    }
   ],
   "source": [
    "data[['cylinders','horsepower']].corr()"
   ]
  },
  {
   "cell_type": "code",
   "execution_count": 35,
   "id": "4df3f191-93c4-4c30-8c97-b5cc5b0b3dae",
   "metadata": {},
   "outputs": [
    {
     "data": {
      "text/html": [
       "<div>\n",
       "<style scoped>\n",
       "    .dataframe tbody tr th:only-of-type {\n",
       "        vertical-align: middle;\n",
       "    }\n",
       "\n",
       "    .dataframe tbody tr th {\n",
       "        vertical-align: top;\n",
       "    }\n",
       "\n",
       "    .dataframe thead th {\n",
       "        text-align: right;\n",
       "    }\n",
       "</style>\n",
       "<table border=\"1\" class=\"dataframe\">\n",
       "  <thead>\n",
       "    <tr style=\"text-align: right;\">\n",
       "      <th></th>\n",
       "      <th>weight</th>\n",
       "      <th>horsepower</th>\n",
       "    </tr>\n",
       "  </thead>\n",
       "  <tbody>\n",
       "    <tr>\n",
       "      <th>weight</th>\n",
       "      <td>1.000000</td>\n",
       "      <td>0.864538</td>\n",
       "    </tr>\n",
       "    <tr>\n",
       "      <th>horsepower</th>\n",
       "      <td>0.864538</td>\n",
       "      <td>1.000000</td>\n",
       "    </tr>\n",
       "  </tbody>\n",
       "</table>\n",
       "</div>"
      ],
      "text/plain": [
       "              weight  horsepower\n",
       "weight      1.000000    0.864538\n",
       "horsepower  0.864538    1.000000"
      ]
     },
     "execution_count": 35,
     "metadata": {},
     "output_type": "execute_result"
    }
   ],
   "source": [
    "data[['weight','horsepower']].corr()"
   ]
  },
  {
   "cell_type": "code",
   "execution_count": 36,
   "id": "22c262d6-ff54-4fb4-85ed-b0ede1a3e842",
   "metadata": {},
   "outputs": [
    {
     "data": {
      "text/html": [
       "<div>\n",
       "<style scoped>\n",
       "    .dataframe tbody tr th:only-of-type {\n",
       "        vertical-align: middle;\n",
       "    }\n",
       "\n",
       "    .dataframe tbody tr th {\n",
       "        vertical-align: top;\n",
       "    }\n",
       "\n",
       "    .dataframe thead th {\n",
       "        text-align: right;\n",
       "    }\n",
       "</style>\n",
       "<table border=\"1\" class=\"dataframe\">\n",
       "  <thead>\n",
       "    <tr style=\"text-align: right;\">\n",
       "      <th></th>\n",
       "      <th>mpg</th>\n",
       "      <th>acceleration</th>\n",
       "      <th>model year</th>\n",
       "      <th>origin</th>\n",
       "      <th>car name</th>\n",
       "    </tr>\n",
       "  </thead>\n",
       "  <tbody>\n",
       "    <tr>\n",
       "      <th>0</th>\n",
       "      <td>18.0</td>\n",
       "      <td>12.0</td>\n",
       "      <td>70</td>\n",
       "      <td>1</td>\n",
       "      <td>chevrolet chevelle malibu</td>\n",
       "    </tr>\n",
       "    <tr>\n",
       "      <th>1</th>\n",
       "      <td>15.0</td>\n",
       "      <td>11.5</td>\n",
       "      <td>70</td>\n",
       "      <td>1</td>\n",
       "      <td>buick skylark 320</td>\n",
       "    </tr>\n",
       "    <tr>\n",
       "      <th>2</th>\n",
       "      <td>18.0</td>\n",
       "      <td>11.0</td>\n",
       "      <td>70</td>\n",
       "      <td>1</td>\n",
       "      <td>plymouth satellite</td>\n",
       "    </tr>\n",
       "    <tr>\n",
       "      <th>3</th>\n",
       "      <td>16.0</td>\n",
       "      <td>12.0</td>\n",
       "      <td>70</td>\n",
       "      <td>1</td>\n",
       "      <td>amc rebel sst</td>\n",
       "    </tr>\n",
       "    <tr>\n",
       "      <th>4</th>\n",
       "      <td>17.0</td>\n",
       "      <td>10.5</td>\n",
       "      <td>70</td>\n",
       "      <td>1</td>\n",
       "      <td>ford torino</td>\n",
       "    </tr>\n",
       "  </tbody>\n",
       "</table>\n",
       "</div>"
      ],
      "text/plain": [
       "    mpg  acceleration  model year  origin                   car name\n",
       "0  18.0          12.0          70       1  chevrolet chevelle malibu\n",
       "1  15.0          11.5          70       1          buick skylark 320\n",
       "2  18.0          11.0          70       1         plymouth satellite\n",
       "3  16.0          12.0          70       1              amc rebel sst\n",
       "4  17.0          10.5          70       1                ford torino"
      ]
     },
     "execution_count": 36,
     "metadata": {},
     "output_type": "execute_result"
    }
   ],
   "source": [
    "df=data.drop(['cylinders', 'displacement', 'horsepower', 'weight'],1)\n",
    "df.head()"
   ]
  },
  {
   "cell_type": "code",
   "execution_count": 37,
   "id": "02e56e1c-e332-4dcd-8795-456e073216ce",
   "metadata": {},
   "outputs": [
    {
     "data": {
      "text/html": [
       "<div>\n",
       "<style scoped>\n",
       "    .dataframe tbody tr th:only-of-type {\n",
       "        vertical-align: middle;\n",
       "    }\n",
       "\n",
       "    .dataframe tbody tr th {\n",
       "        vertical-align: top;\n",
       "    }\n",
       "\n",
       "    .dataframe thead th {\n",
       "        text-align: right;\n",
       "    }\n",
       "</style>\n",
       "<table border=\"1\" class=\"dataframe\">\n",
       "  <thead>\n",
       "    <tr style=\"text-align: right;\">\n",
       "      <th></th>\n",
       "      <th>mpg</th>\n",
       "      <th>cylinders</th>\n",
       "      <th>displacement</th>\n",
       "      <th>car name</th>\n",
       "    </tr>\n",
       "  </thead>\n",
       "  <tbody>\n",
       "    <tr>\n",
       "      <th>0</th>\n",
       "      <td>18.0</td>\n",
       "      <td>8</td>\n",
       "      <td>307.0</td>\n",
       "      <td>chevrolet chevelle malibu</td>\n",
       "    </tr>\n",
       "    <tr>\n",
       "      <th>1</th>\n",
       "      <td>15.0</td>\n",
       "      <td>8</td>\n",
       "      <td>350.0</td>\n",
       "      <td>buick skylark 320</td>\n",
       "    </tr>\n",
       "    <tr>\n",
       "      <th>2</th>\n",
       "      <td>18.0</td>\n",
       "      <td>8</td>\n",
       "      <td>318.0</td>\n",
       "      <td>plymouth satellite</td>\n",
       "    </tr>\n",
       "    <tr>\n",
       "      <th>3</th>\n",
       "      <td>16.0</td>\n",
       "      <td>8</td>\n",
       "      <td>304.0</td>\n",
       "      <td>amc rebel sst</td>\n",
       "    </tr>\n",
       "    <tr>\n",
       "      <th>4</th>\n",
       "      <td>17.0</td>\n",
       "      <td>8</td>\n",
       "      <td>302.0</td>\n",
       "      <td>ford torino</td>\n",
       "    </tr>\n",
       "  </tbody>\n",
       "</table>\n",
       "</div>"
      ],
      "text/plain": [
       "    mpg  cylinders  displacement                   car name\n",
       "0  18.0          8         307.0  chevrolet chevelle malibu\n",
       "1  15.0          8         350.0          buick skylark 320\n",
       "2  18.0          8         318.0         plymouth satellite\n",
       "3  16.0          8         304.0              amc rebel sst\n",
       "4  17.0          8         302.0                ford torino"
      ]
     },
     "execution_count": 37,
     "metadata": {},
     "output_type": "execute_result"
    }
   ],
   "source": [
    "data_1 = data.drop(['horsepower', 'weight', 'acceleration', 'model year', 'origin'],1)\n",
    "data_1.head()"
   ]
  },
  {
   "cell_type": "code",
   "execution_count": 38,
   "id": "74d1e25c-1544-4b11-a093-c0a940750e3d",
   "metadata": {},
   "outputs": [
    {
     "data": {
      "text/html": [
       "<div>\n",
       "<style scoped>\n",
       "    .dataframe tbody tr th:only-of-type {\n",
       "        vertical-align: middle;\n",
       "    }\n",
       "\n",
       "    .dataframe tbody tr th {\n",
       "        vertical-align: top;\n",
       "    }\n",
       "\n",
       "    .dataframe thead th {\n",
       "        text-align: right;\n",
       "    }\n",
       "</style>\n",
       "<table border=\"1\" class=\"dataframe\">\n",
       "  <thead>\n",
       "    <tr style=\"text-align: right;\">\n",
       "      <th></th>\n",
       "      <th>mpg</th>\n",
       "      <th>cylinders</th>\n",
       "      <th>displacement</th>\n",
       "      <th>weight</th>\n",
       "      <th>car name</th>\n",
       "    </tr>\n",
       "  </thead>\n",
       "  <tbody>\n",
       "    <tr>\n",
       "      <th>0</th>\n",
       "      <td>18.0</td>\n",
       "      <td>8</td>\n",
       "      <td>307.0</td>\n",
       "      <td>3504</td>\n",
       "      <td>chevrolet chevelle malibu</td>\n",
       "    </tr>\n",
       "    <tr>\n",
       "      <th>1</th>\n",
       "      <td>15.0</td>\n",
       "      <td>8</td>\n",
       "      <td>350.0</td>\n",
       "      <td>3693</td>\n",
       "      <td>buick skylark 320</td>\n",
       "    </tr>\n",
       "    <tr>\n",
       "      <th>2</th>\n",
       "      <td>18.0</td>\n",
       "      <td>8</td>\n",
       "      <td>318.0</td>\n",
       "      <td>3436</td>\n",
       "      <td>plymouth satellite</td>\n",
       "    </tr>\n",
       "    <tr>\n",
       "      <th>3</th>\n",
       "      <td>16.0</td>\n",
       "      <td>8</td>\n",
       "      <td>304.0</td>\n",
       "      <td>3433</td>\n",
       "      <td>amc rebel sst</td>\n",
       "    </tr>\n",
       "    <tr>\n",
       "      <th>4</th>\n",
       "      <td>17.0</td>\n",
       "      <td>8</td>\n",
       "      <td>302.0</td>\n",
       "      <td>3449</td>\n",
       "      <td>ford torino</td>\n",
       "    </tr>\n",
       "  </tbody>\n",
       "</table>\n",
       "</div>"
      ],
      "text/plain": [
       "    mpg  cylinders  displacement  weight                   car name\n",
       "0  18.0          8         307.0    3504  chevrolet chevelle malibu\n",
       "1  15.0          8         350.0    3693          buick skylark 320\n",
       "2  18.0          8         318.0    3436         plymouth satellite\n",
       "3  16.0          8         304.0    3433              amc rebel sst\n",
       "4  17.0          8         302.0    3449                ford torino"
      ]
     },
     "execution_count": 38,
     "metadata": {},
     "output_type": "execute_result"
    }
   ],
   "source": [
    "data_2 = data.drop(['horsepower', 'acceleration', 'model year', 'origin'],1)\n",
    "data_2.head()"
   ]
  },
  {
   "cell_type": "code",
   "execution_count": 39,
   "id": "98374fa8-c047-48c0-816b-bf2d5cdfa10c",
   "metadata": {},
   "outputs": [
    {
     "data": {
      "text/html": [
       "<div>\n",
       "<style scoped>\n",
       "    .dataframe tbody tr th:only-of-type {\n",
       "        vertical-align: middle;\n",
       "    }\n",
       "\n",
       "    .dataframe tbody tr th {\n",
       "        vertical-align: top;\n",
       "    }\n",
       "\n",
       "    .dataframe thead th {\n",
       "        text-align: right;\n",
       "    }\n",
       "</style>\n",
       "<table border=\"1\" class=\"dataframe\">\n",
       "  <thead>\n",
       "    <tr style=\"text-align: right;\">\n",
       "      <th></th>\n",
       "      <th>mpg</th>\n",
       "      <th>cylinders</th>\n",
       "      <th>displacement</th>\n",
       "      <th>horsepower</th>\n",
       "      <th>weight</th>\n",
       "      <th>car name</th>\n",
       "    </tr>\n",
       "  </thead>\n",
       "  <tbody>\n",
       "    <tr>\n",
       "      <th>0</th>\n",
       "      <td>18.0</td>\n",
       "      <td>8</td>\n",
       "      <td>307.0</td>\n",
       "      <td>130</td>\n",
       "      <td>3504</td>\n",
       "      <td>chevrolet chevelle malibu</td>\n",
       "    </tr>\n",
       "    <tr>\n",
       "      <th>1</th>\n",
       "      <td>15.0</td>\n",
       "      <td>8</td>\n",
       "      <td>350.0</td>\n",
       "      <td>165</td>\n",
       "      <td>3693</td>\n",
       "      <td>buick skylark 320</td>\n",
       "    </tr>\n",
       "    <tr>\n",
       "      <th>2</th>\n",
       "      <td>18.0</td>\n",
       "      <td>8</td>\n",
       "      <td>318.0</td>\n",
       "      <td>150</td>\n",
       "      <td>3436</td>\n",
       "      <td>plymouth satellite</td>\n",
       "    </tr>\n",
       "    <tr>\n",
       "      <th>3</th>\n",
       "      <td>16.0</td>\n",
       "      <td>8</td>\n",
       "      <td>304.0</td>\n",
       "      <td>150</td>\n",
       "      <td>3433</td>\n",
       "      <td>amc rebel sst</td>\n",
       "    </tr>\n",
       "    <tr>\n",
       "      <th>4</th>\n",
       "      <td>17.0</td>\n",
       "      <td>8</td>\n",
       "      <td>302.0</td>\n",
       "      <td>140</td>\n",
       "      <td>3449</td>\n",
       "      <td>ford torino</td>\n",
       "    </tr>\n",
       "  </tbody>\n",
       "</table>\n",
       "</div>"
      ],
      "text/plain": [
       "    mpg  cylinders  displacement  horsepower  weight  \\\n",
       "0  18.0          8         307.0         130    3504   \n",
       "1  15.0          8         350.0         165    3693   \n",
       "2  18.0          8         318.0         150    3436   \n",
       "3  16.0          8         304.0         150    3433   \n",
       "4  17.0          8         302.0         140    3449   \n",
       "\n",
       "                    car name  \n",
       "0  chevrolet chevelle malibu  \n",
       "1          buick skylark 320  \n",
       "2         plymouth satellite  \n",
       "3              amc rebel sst  \n",
       "4                ford torino  "
      ]
     },
     "execution_count": 39,
     "metadata": {},
     "output_type": "execute_result"
    }
   ],
   "source": [
    "data_3 = data.drop([ 'acceleration', 'model year', 'origin'],1)\n",
    "data_3.head()"
   ]
  },
  {
   "cell_type": "code",
   "execution_count": 40,
   "id": "f1783aa6-9274-466d-a5ad-9936d37a445a",
   "metadata": {},
   "outputs": [],
   "source": [
    "x_1 = data_1[[\"cylinders\",\"displacement\"]]\n",
    "y_1 = data_1[\"mpg\"]"
   ]
  },
  {
   "cell_type": "code",
   "execution_count": 41,
   "id": "d2fb21e8",
   "metadata": {},
   "outputs": [],
   "source": [
    "y_1=y_1.astype('int')"
   ]
  },
  {
   "cell_type": "code",
   "execution_count": 42,
   "id": "d87fa7fa-b5a9-425f-8c8f-704f4752bee7",
   "metadata": {},
   "outputs": [],
   "source": [
    "Xtrain1, Xtest1, ytrain1, ytest1 = train_test_split(x_1, y_1, random_state = 1)"
   ]
  },
  {
   "cell_type": "code",
   "execution_count": 43,
   "id": "f64be51b-456b-4879-9d22-9a37de15d045",
   "metadata": {},
   "outputs": [],
   "source": [
    "model = GaussianNB()"
   ]
  },
  {
   "cell_type": "code",
   "execution_count": 44,
   "id": "0d795f0a-6e7b-4e14-ae87-1820319544f9",
   "metadata": {},
   "outputs": [
    {
     "data": {
      "text/plain": [
       "GaussianNB()"
      ]
     },
     "execution_count": 44,
     "metadata": {},
     "output_type": "execute_result"
    }
   ],
   "source": [
    "model.fit(Xtrain1, ytrain1)"
   ]
  },
  {
   "cell_type": "code",
   "execution_count": 45,
   "id": "8dbfa75c",
   "metadata": {},
   "outputs": [
    {
     "data": {
      "text/plain": [
       "array([18, 13, 34, 27, 18, 34, 27, 34, 18, 29, 13, 18, 40, 20, 37, 27, 14,\n",
       "       27, 14, 13, 27, 27, 34, 34, 20, 46,  9, 34, 27, 13, 27, 34, 34, 14,\n",
       "       14, 18, 20, 13, 27, 27, 13,  9, 27, 29, 20, 14, 27, 20, 43, 14, 13,\n",
       "       37, 34, 26, 14, 18, 13, 34, 34, 43, 14, 14, 18, 20, 14, 27, 13, 25,\n",
       "       27, 27, 20, 18, 26, 27, 13, 27, 14, 34, 14, 18, 34, 18, 26, 18, 34,\n",
       "       27, 39, 27, 27, 34, 13, 12, 27, 18, 34, 43, 18,  9, 27, 37, 18, 18,\n",
       "       27, 27, 25, 37, 18, 18, 18, 39, 14, 13, 27, 18, 14, 14, 40, 20, 20,\n",
       "       27, 27, 27, 27, 14, 27, 43, 18, 34, 27, 14, 34, 14, 34, 34, 14, 14,\n",
       "       31, 18, 27, 14, 20, 27,  9, 34, 27, 14, 13, 31, 14, 20, 29, 37, 20,\n",
       "       13, 14, 37, 34, 27, 27, 27, 34, 40, 14, 27, 18, 13, 27, 20, 43, 46,\n",
       "       34, 27, 34, 18, 27, 27, 14, 14, 27, 14, 27, 12, 40, 39, 34, 40, 18,\n",
       "       46, 14, 27, 18, 13, 27, 34, 34, 18, 27, 34, 34, 27, 18, 27, 14, 27,\n",
       "       39, 34, 14, 31, 14, 27, 18, 34, 18, 34, 37, 18, 14, 34, 20, 14, 20,\n",
       "       39, 34, 27, 13, 14, 27, 34, 34, 13, 18, 18, 43, 27, 27, 13, 18, 18,\n",
       "       18, 13, 37, 13, 20, 27, 34, 27, 37, 14, 27, 14, 27,  9, 27, 27, 27,\n",
       "       27, 27, 14, 27, 39, 34, 20, 27, 13, 27, 34, 27, 34, 14, 34, 13, 27,\n",
       "       26, 34, 13, 39, 14, 18, 20, 18, 37, 27, 18, 34,  9, 31, 43, 27, 18,\n",
       "       34, 18, 14, 34, 13])"
      ]
     },
     "execution_count": 45,
     "metadata": {},
     "output_type": "execute_result"
    }
   ],
   "source": [
    "y_pred1 = model.predict(Xtrain1)\n",
    "y_pred1"
   ]
  },
  {
   "cell_type": "code",
   "execution_count": 46,
   "id": "fa366ac2",
   "metadata": {},
   "outputs": [
    {
     "data": {
      "text/plain": [
       "16.666666666666664"
      ]
     },
     "execution_count": 46,
     "metadata": {},
     "output_type": "execute_result"
    }
   ],
   "source": [
    "accuracy = accuracy_score(ytrain1, y_pred1)*100\n",
    "accuracy"
   ]
  },
  {
   "cell_type": "code",
   "execution_count": 47,
   "id": "56925fe6",
   "metadata": {},
   "outputs": [
    {
     "data": {
      "text/plain": [
       "16.666666666666664"
      ]
     },
     "execution_count": 47,
     "metadata": {},
     "output_type": "execute_result"
    }
   ],
   "source": [
    "from sklearn.metrics import precision_score, recall_score\n",
    "\n",
    "precision_score(ytrain1, y_pred1, average='micro')*100"
   ]
  },
  {
   "cell_type": "code",
   "execution_count": 48,
   "id": "9b0053ac",
   "metadata": {},
   "outputs": [
    {
     "data": {
      "text/plain": [
       "11.225420093129493"
      ]
     },
     "execution_count": 48,
     "metadata": {},
     "output_type": "execute_result"
    }
   ],
   "source": [
    "from sklearn.metrics import f1_score\n",
    "f1_score(ytrain1, y_pred1, average='macro')*100"
   ]
  },
  {
   "cell_type": "markdown",
   "id": "245fb433",
   "metadata": {},
   "source": [
    "# not as good as original model"
   ]
  },
  {
   "cell_type": "code",
   "execution_count": 49,
   "id": "6a7e9ec9",
   "metadata": {},
   "outputs": [],
   "source": [
    "x_2 = data_2[[\"cylinders\",\"displacement\", \"weight\"]]\n",
    "y_2 = data_2[\"mpg\"]"
   ]
  },
  {
   "cell_type": "code",
   "execution_count": 50,
   "id": "f21e690b",
   "metadata": {},
   "outputs": [],
   "source": [
    "y_2=y_2.astype('int')"
   ]
  },
  {
   "cell_type": "code",
   "execution_count": 51,
   "id": "e5e50410",
   "metadata": {},
   "outputs": [],
   "source": [
    "Xtrain2, Xtest2, ytrain2, ytest2 = train_test_split(x_2, y_2, random_state = 1)"
   ]
  },
  {
   "cell_type": "code",
   "execution_count": 52,
   "id": "955d7acb",
   "metadata": {},
   "outputs": [],
   "source": [
    "model = GaussianNB()"
   ]
  },
  {
   "cell_type": "code",
   "execution_count": 53,
   "id": "6ec164fe",
   "metadata": {},
   "outputs": [
    {
     "data": {
      "text/plain": [
       "GaussianNB()"
      ]
     },
     "execution_count": 53,
     "metadata": {},
     "output_type": "execute_result"
    }
   ],
   "source": [
    "model.fit(Xtrain2, ytrain2)"
   ]
  },
  {
   "cell_type": "code",
   "execution_count": 54,
   "id": "b2bb3eca",
   "metadata": {},
   "outputs": [
    {
     "data": {
      "text/plain": [
       "array([20, 14, 34, 27, 18, 34, 34, 34, 20, 39, 14, 17, 39, 20, 37, 27, 13,\n",
       "       27, 18, 14, 27, 27, 44, 44, 20, 39, 13, 34, 27, 14, 27, 34, 34, 17,\n",
       "       13, 17, 20, 14, 27, 27, 13, 14, 27, 37, 21, 13, 27, 20, 33, 13, 14,\n",
       "       33, 33, 26, 14, 18, 13, 34, 34, 37, 12, 14, 18, 20, 14, 27, 13, 25,\n",
       "       27, 27, 20, 18, 26, 27, 13, 27, 12, 33, 13, 17, 34, 18, 26, 17, 34,\n",
       "       27, 39, 27, 27, 44, 14, 14, 27, 18, 34, 37, 18,  9, 34, 37, 18, 20,\n",
       "       27, 27, 25, 37, 18, 18, 18, 39, 14, 13, 27, 18, 14, 12, 39, 20, 20,\n",
       "       27, 27, 27, 27, 14, 27, 43, 18, 34, 27, 14, 34, 14, 27, 33, 13, 14,\n",
       "       29, 17, 27, 14, 20, 27, 14, 34, 27, 14, 13, 29, 14, 20, 29, 37, 20,\n",
       "       14, 13, 37, 33, 27, 27, 34, 44, 40, 13, 34, 18, 14, 27, 20, 34, 39,\n",
       "       33, 27, 34, 17, 27, 27, 12, 14, 27, 13, 27, 12, 39, 39, 34, 39, 18,\n",
       "       46, 13, 27, 18, 14, 27, 44, 34, 18, 27, 27, 34, 27, 18, 27, 14, 27,\n",
       "       39, 34, 13, 29, 13, 27, 18, 34, 18, 34, 37, 18, 14, 33, 20, 14, 20,\n",
       "       39, 34, 27, 14, 14, 27, 44, 34, 14, 20, 18, 33, 27, 27, 13, 18, 18,\n",
       "       18, 13, 33, 14, 20, 27, 34, 27, 37, 14, 27, 12, 27, 13, 27, 34, 27,\n",
       "       27, 27, 14, 27, 39, 34, 18, 27, 13, 27, 34, 27, 34, 14, 34, 14, 27,\n",
       "       26, 34, 14, 29, 14, 20, 20, 18, 37, 27, 18, 33, 14, 29, 37, 27, 18,\n",
       "       34, 18, 14, 34, 14])"
      ]
     },
     "execution_count": 54,
     "metadata": {},
     "output_type": "execute_result"
    }
   ],
   "source": [
    "y_pred2 = model.predict(Xtrain2)\n",
    "y_pred2"
   ]
  },
  {
   "cell_type": "code",
   "execution_count": 55,
   "id": "fcd8f44e",
   "metadata": {},
   "outputs": [
    {
     "data": {
      "text/plain": [
       "20.74829931972789"
      ]
     },
     "execution_count": 55,
     "metadata": {},
     "output_type": "execute_result"
    }
   ],
   "source": [
    "accuracy = accuracy_score(ytrain2, y_pred2)*100\n",
    "accuracy"
   ]
  },
  {
   "cell_type": "code",
   "execution_count": 56,
   "id": "da10f07b",
   "metadata": {},
   "outputs": [
    {
     "data": {
      "text/plain": [
       "20.74829931972789"
      ]
     },
     "execution_count": 56,
     "metadata": {},
     "output_type": "execute_result"
    }
   ],
   "source": [
    "precision_score(ytrain2, y_pred2, average='micro')*100"
   ]
  },
  {
   "cell_type": "code",
   "execution_count": 57,
   "id": "a5bd1122",
   "metadata": {},
   "outputs": [
    {
     "data": {
      "text/plain": [
       "22.37748783724016"
      ]
     },
     "execution_count": 57,
     "metadata": {},
     "output_type": "execute_result"
    }
   ],
   "source": [
    "f1_score(ytrain2, y_pred2, average='macro')*100"
   ]
  },
  {
   "cell_type": "markdown",
   "id": "a52f5c16",
   "metadata": {},
   "source": [
    "# still not as good as original model "
   ]
  },
  {
   "cell_type": "code",
   "execution_count": 58,
   "id": "c8d1f6e5",
   "metadata": {},
   "outputs": [],
   "source": [
    "x_3 = data_3[[\"cylinders\",\"displacement\", \"weight\", \"horsepower\"]]\n",
    "y_3 = data_3[\"mpg\"]"
   ]
  },
  {
   "cell_type": "code",
   "execution_count": 59,
   "id": "7199aa8b",
   "metadata": {},
   "outputs": [],
   "source": [
    "y_3=y_3.astype('int')"
   ]
  },
  {
   "cell_type": "code",
   "execution_count": 60,
   "id": "a5d2a518",
   "metadata": {},
   "outputs": [],
   "source": [
    "Xtrain3, Xtest3, ytrain3, ytest3 = train_test_split(x_3, y_3, random_state = 1)"
   ]
  },
  {
   "cell_type": "code",
   "execution_count": 61,
   "id": "691dd58a",
   "metadata": {},
   "outputs": [],
   "source": [
    "model = GaussianNB()"
   ]
  },
  {
   "cell_type": "code",
   "execution_count": 62,
   "id": "f975d692",
   "metadata": {},
   "outputs": [
    {
     "data": {
      "text/plain": [
       "GaussianNB()"
      ]
     },
     "execution_count": 62,
     "metadata": {},
     "output_type": "execute_result"
    }
   ],
   "source": [
    "model.fit(Xtrain3, ytrain3)"
   ]
  },
  {
   "cell_type": "code",
   "execution_count": 63,
   "id": "80fabe28",
   "metadata": {},
   "outputs": [
    {
     "data": {
      "text/plain": [
       "array([20, 14, 28, 27, 20, 34, 34, 34, 20, 29, 14, 17, 39, 20, 37, 27, 13,\n",
       "       27, 18, 14, 28, 28, 44, 28, 18, 39, 13, 33, 27, 14, 27, 34, 34, 18,\n",
       "       13, 17, 20, 14, 27, 27, 13, 14, 28, 34, 21, 11, 27, 20, 37, 13, 14,\n",
       "       33, 33, 26, 14, 20, 13, 34, 34, 34, 12, 14, 18, 20, 14, 27, 13, 25,\n",
       "       27, 27, 20, 18, 26, 27, 13, 27, 12, 33, 13, 17, 34, 18, 26, 18, 34,\n",
       "       27, 39, 27, 28, 34, 14, 12, 28, 20, 34, 44, 18,  9, 27, 37, 18, 20,\n",
       "       27, 28, 30, 37, 18, 17, 18, 39, 14, 13, 28, 18, 14, 12, 39, 18, 18,\n",
       "       28, 27, 28, 27, 13, 28, 43, 18, 27, 27, 13, 34, 14, 27, 33, 13, 14,\n",
       "       31, 18, 27, 13, 20, 28, 14, 34, 27, 14, 13, 29, 13, 20, 29, 37, 20,\n",
       "       13, 13, 37, 34, 27, 27, 27, 34, 40, 13, 28, 18, 13, 27, 20, 34, 39,\n",
       "       33, 27, 38, 18, 27, 27, 12, 14, 27, 13, 28, 12, 29, 39, 27, 39, 18,\n",
       "       46, 13, 27, 18, 14, 27, 34, 34, 18, 27, 28, 34, 27, 18, 27, 14, 27,\n",
       "       39, 34, 13, 29, 13, 27, 18, 34, 18, 34, 37, 18, 14, 33, 20, 14, 20,\n",
       "       39, 34, 27, 13, 14, 28, 29, 34, 13, 20, 18, 37, 27, 28, 13, 18, 18,\n",
       "       18, 10, 33, 14, 20, 27, 27, 27, 38, 10, 28, 12, 27, 13, 28, 27, 27,\n",
       "       27, 27, 14, 27, 39, 34, 18, 27, 13, 27, 27, 28, 34, 11, 34, 13, 27,\n",
       "       21, 34, 14, 39, 14, 20, 20, 18, 37, 27, 20, 34, 13, 29, 34, 27, 18,\n",
       "       34, 20, 14, 38, 14])"
      ]
     },
     "execution_count": 63,
     "metadata": {},
     "output_type": "execute_result"
    }
   ],
   "source": [
    "y_pred3 = model.predict(Xtrain3)\n",
    "y_pred3"
   ]
  },
  {
   "cell_type": "code",
   "execution_count": 64,
   "id": "37e92c0f",
   "metadata": {},
   "outputs": [
    {
     "data": {
      "text/plain": [
       "24.149659863945576"
      ]
     },
     "execution_count": 64,
     "metadata": {},
     "output_type": "execute_result"
    }
   ],
   "source": [
    "accuracy = accuracy_score(ytrain3, y_pred3)*100\n",
    "accuracy"
   ]
  },
  {
   "cell_type": "code",
   "execution_count": 65,
   "id": "00d5f719",
   "metadata": {},
   "outputs": [
    {
     "data": {
      "text/plain": [
       "24.149659863945576"
      ]
     },
     "execution_count": 65,
     "metadata": {},
     "output_type": "execute_result"
    }
   ],
   "source": [
    "precision_score(ytrain3, y_pred3, average='micro')*100"
   ]
  },
  {
   "cell_type": "code",
   "execution_count": 66,
   "id": "12b01de0",
   "metadata": {},
   "outputs": [
    {
     "data": {
      "text/plain": [
       "31.27273724892852"
      ]
     },
     "execution_count": 66,
     "metadata": {},
     "output_type": "execute_result"
    }
   ],
   "source": [
    "f1_score(ytrain3, y_pred3, average='macro')*100"
   ]
  },
  {
   "cell_type": "markdown",
   "id": "1d36f070",
   "metadata": {},
   "source": [
    "# In conclusion, none of the top features were as accurate in predicting the mpg as smaller data sets as they were when modeled all together "
   ]
  },
  {
   "cell_type": "code",
   "execution_count": 67,
   "id": "91f09a36",
   "metadata": {},
   "outputs": [],
   "source": [
    "# Python ≥3.5 is required\n",
    "import sys\n",
    "assert sys.version_info >= (3, 5)\n",
    "\n",
    "# Scikit-Learn ≥0.20 is required\n",
    "import sklearn\n",
    "assert sklearn.__version__ >= \"0.20\"\n",
    "\n",
    "# Common imports\n",
    "import numpy as np\n",
    "import os\n",
    "\n",
    "# to make this notebook's output stable across runs\n",
    "np.random.seed(42)\n",
    "\n",
    "# To plot pretty figures\n",
    "%matplotlib inline\n",
    "import matplotlib as mpl\n",
    "import matplotlib.pyplot as plt\n",
    "mpl.rc('axes', labelsize=14)\n",
    "mpl.rc('xtick', labelsize=12)\n",
    "mpl.rc('ytick', labelsize=12)\n",
    "\n",
    "# Ignore useless warnings (see SciPy issue #5998)\n",
    "import warnings\n",
    "warnings.filterwarnings(action=\"ignore\", message=\"^internal gelsd\")"
   ]
  },
  {
   "cell_type": "markdown",
   "id": "134d2f33",
   "metadata": {},
   "source": [
    "# K-means"
   ]
  },
  {
   "cell_type": "code",
   "execution_count": 68,
   "id": "39d6af4a",
   "metadata": {},
   "outputs": [],
   "source": [
    "def plot_clusters(X, y=None):\n",
    "    plt.scatter(X[:, 0], X[:, 1], c=y, s=1)\n",
    "    plt.xlabel(\"$x_1$\", fontsize=14)\n",
    "    plt.ylabel(\"$x_2$\", fontsize=14, rotation=0)"
   ]
  },
  {
   "cell_type": "markdown",
   "id": "e331d540",
   "metadata": {},
   "source": [
    "# to train the cluster"
   ]
  },
  {
   "cell_type": "code",
   "execution_count": 69,
   "id": "09d99b8e",
   "metadata": {},
   "outputs": [],
   "source": [
    "from sklearn.cluster import KMeans"
   ]
  },
  {
   "cell_type": "code",
   "execution_count": 70,
   "id": "937d420a",
   "metadata": {},
   "outputs": [],
   "source": [
    "k = 5\n",
    "kmeans = KMeans(n_clusters=k, random_state=42)\n",
    "y_pred = kmeans.fit_predict(X)"
   ]
  },
  {
   "cell_type": "markdown",
   "id": "4ac12b16",
   "metadata": {},
   "source": [
    "# estimates the 5 clusters "
   ]
  },
  {
   "cell_type": "code",
   "execution_count": 71,
   "id": "fde9a964",
   "metadata": {},
   "outputs": [
    {
     "data": {
      "text/plain": [
       "array([[3.98518519e+00, 9.83370370e+01, 2.10539259e+03, 1.66318519e+01,\n",
       "        7.27481481e+01],\n",
       "       [8.00000000e+00, 3.69914894e+02, 4.50451064e+03, 1.27872340e+01,\n",
       "        1.74595745e+02],\n",
       "       [6.26153846e+00, 2.39461538e+02, 3.30055385e+03, 1.62384615e+01,\n",
       "        1.06292308e+02],\n",
       "       [4.57142857e+00, 1.47505495e+02, 2.71612088e+03, 1.55813187e+01,\n",
       "        9.47142857e+01],\n",
       "       [7.55555556e+00, 3.06666667e+02, 3.88092593e+03, 1.43055556e+01,\n",
       "        1.36981481e+02]])"
      ]
     },
     "execution_count": 71,
     "metadata": {},
     "output_type": "execute_result"
    }
   ],
   "source": [
    "kmeans.cluster_centers_"
   ]
  },
  {
   "cell_type": "code",
   "execution_count": 72,
   "id": "8c6c50b1",
   "metadata": {},
   "outputs": [
    {
     "ename": "ValueError",
     "evalue": "X has 2 features, but KMeans is expecting 5 features as input.",
     "output_type": "error",
     "traceback": [
      "\u001b[0;31m---------------------------------------------------------------------------\u001b[0m",
      "\u001b[0;31mValueError\u001b[0m                                Traceback (most recent call last)",
      "\u001b[0;32m/var/folders/5c/nf8c_4rj26j38ll_3t2bfz7r0000gn/T/ipykernel_58007/1118029265.py\u001b[0m in \u001b[0;36m<module>\u001b[0;34m\u001b[0m\n\u001b[1;32m      1\u001b[0m \u001b[0mX_new\u001b[0m \u001b[0;34m=\u001b[0m \u001b[0mnp\u001b[0m\u001b[0;34m.\u001b[0m\u001b[0marray\u001b[0m\u001b[0;34m(\u001b[0m\u001b[0;34m[\u001b[0m\u001b[0;34m[\u001b[0m\u001b[0;36m0\u001b[0m\u001b[0;34m,\u001b[0m \u001b[0;36m2\u001b[0m\u001b[0;34m]\u001b[0m\u001b[0;34m,\u001b[0m \u001b[0;34m[\u001b[0m\u001b[0;36m3\u001b[0m\u001b[0;34m,\u001b[0m \u001b[0;36m2\u001b[0m\u001b[0;34m]\u001b[0m\u001b[0;34m,\u001b[0m \u001b[0;34m[\u001b[0m\u001b[0;34m-\u001b[0m\u001b[0;36m3\u001b[0m\u001b[0;34m,\u001b[0m \u001b[0;36m3\u001b[0m\u001b[0;34m]\u001b[0m\u001b[0;34m,\u001b[0m \u001b[0;34m[\u001b[0m\u001b[0;34m-\u001b[0m\u001b[0;36m3\u001b[0m\u001b[0;34m,\u001b[0m \u001b[0;36m2.5\u001b[0m\u001b[0;34m]\u001b[0m\u001b[0;34m]\u001b[0m\u001b[0;34m)\u001b[0m\u001b[0;34m\u001b[0m\u001b[0;34m\u001b[0m\u001b[0m\n\u001b[0;32m----> 2\u001b[0;31m \u001b[0mkmeans\u001b[0m\u001b[0;34m.\u001b[0m\u001b[0mpredict\u001b[0m\u001b[0;34m(\u001b[0m\u001b[0mX_new\u001b[0m\u001b[0;34m)\u001b[0m\u001b[0;34m\u001b[0m\u001b[0;34m\u001b[0m\u001b[0m\n\u001b[0m",
      "\u001b[0;32m~/opt/anaconda3/envs/F21DL/lib/python3.8/site-packages/sklearn/cluster/_kmeans.py\u001b[0m in \u001b[0;36mpredict\u001b[0;34m(self, X, sample_weight)\u001b[0m\n\u001b[1;32m   1154\u001b[0m         \u001b[0mcheck_is_fitted\u001b[0m\u001b[0;34m(\u001b[0m\u001b[0mself\u001b[0m\u001b[0;34m)\u001b[0m\u001b[0;34m\u001b[0m\u001b[0;34m\u001b[0m\u001b[0m\n\u001b[1;32m   1155\u001b[0m \u001b[0;34m\u001b[0m\u001b[0m\n\u001b[0;32m-> 1156\u001b[0;31m         \u001b[0mX\u001b[0m \u001b[0;34m=\u001b[0m \u001b[0mself\u001b[0m\u001b[0;34m.\u001b[0m\u001b[0m_check_test_data\u001b[0m\u001b[0;34m(\u001b[0m\u001b[0mX\u001b[0m\u001b[0;34m)\u001b[0m\u001b[0;34m\u001b[0m\u001b[0;34m\u001b[0m\u001b[0m\n\u001b[0m\u001b[1;32m   1157\u001b[0m         \u001b[0mx_squared_norms\u001b[0m \u001b[0;34m=\u001b[0m \u001b[0mrow_norms\u001b[0m\u001b[0;34m(\u001b[0m\u001b[0mX\u001b[0m\u001b[0;34m,\u001b[0m \u001b[0msquared\u001b[0m\u001b[0;34m=\u001b[0m\u001b[0;32mTrue\u001b[0m\u001b[0;34m)\u001b[0m\u001b[0;34m\u001b[0m\u001b[0;34m\u001b[0m\u001b[0m\n\u001b[1;32m   1158\u001b[0m         \u001b[0msample_weight\u001b[0m \u001b[0;34m=\u001b[0m \u001b[0m_check_sample_weight\u001b[0m\u001b[0;34m(\u001b[0m\u001b[0msample_weight\u001b[0m\u001b[0;34m,\u001b[0m \u001b[0mX\u001b[0m\u001b[0;34m,\u001b[0m \u001b[0mdtype\u001b[0m\u001b[0;34m=\u001b[0m\u001b[0mX\u001b[0m\u001b[0;34m.\u001b[0m\u001b[0mdtype\u001b[0m\u001b[0;34m)\u001b[0m\u001b[0;34m\u001b[0m\u001b[0;34m\u001b[0m\u001b[0m\n",
      "\u001b[0;32m~/opt/anaconda3/envs/F21DL/lib/python3.8/site-packages/sklearn/cluster/_kmeans.py\u001b[0m in \u001b[0;36m_check_test_data\u001b[0;34m(self, X)\u001b[0m\n\u001b[1;32m    856\u001b[0m \u001b[0;34m\u001b[0m\u001b[0m\n\u001b[1;32m    857\u001b[0m     \u001b[0;32mdef\u001b[0m \u001b[0m_check_test_data\u001b[0m\u001b[0;34m(\u001b[0m\u001b[0mself\u001b[0m\u001b[0;34m,\u001b[0m \u001b[0mX\u001b[0m\u001b[0;34m)\u001b[0m\u001b[0;34m:\u001b[0m\u001b[0;34m\u001b[0m\u001b[0;34m\u001b[0m\u001b[0m\n\u001b[0;32m--> 858\u001b[0;31m         X = self._validate_data(X, accept_sparse='csr', reset=False,\n\u001b[0m\u001b[1;32m    859\u001b[0m                                 \u001b[0mdtype\u001b[0m\u001b[0;34m=\u001b[0m\u001b[0;34m[\u001b[0m\u001b[0mnp\u001b[0m\u001b[0;34m.\u001b[0m\u001b[0mfloat64\u001b[0m\u001b[0;34m,\u001b[0m \u001b[0mnp\u001b[0m\u001b[0;34m.\u001b[0m\u001b[0mfloat32\u001b[0m\u001b[0;34m]\u001b[0m\u001b[0;34m,\u001b[0m\u001b[0;34m\u001b[0m\u001b[0;34m\u001b[0m\u001b[0m\n\u001b[1;32m    860\u001b[0m                                 order='C', accept_large_sparse=False)\n",
      "\u001b[0;32m~/opt/anaconda3/envs/F21DL/lib/python3.8/site-packages/sklearn/base.py\u001b[0m in \u001b[0;36m_validate_data\u001b[0;34m(self, X, y, reset, validate_separately, **check_params)\u001b[0m\n\u001b[1;32m    435\u001b[0m \u001b[0;34m\u001b[0m\u001b[0m\n\u001b[1;32m    436\u001b[0m         \u001b[0;32mif\u001b[0m \u001b[0mcheck_params\u001b[0m\u001b[0;34m.\u001b[0m\u001b[0mget\u001b[0m\u001b[0;34m(\u001b[0m\u001b[0;34m'ensure_2d'\u001b[0m\u001b[0;34m,\u001b[0m \u001b[0;32mTrue\u001b[0m\u001b[0;34m)\u001b[0m\u001b[0;34m:\u001b[0m\u001b[0;34m\u001b[0m\u001b[0;34m\u001b[0m\u001b[0m\n\u001b[0;32m--> 437\u001b[0;31m             \u001b[0mself\u001b[0m\u001b[0;34m.\u001b[0m\u001b[0m_check_n_features\u001b[0m\u001b[0;34m(\u001b[0m\u001b[0mX\u001b[0m\u001b[0;34m,\u001b[0m \u001b[0mreset\u001b[0m\u001b[0;34m=\u001b[0m\u001b[0mreset\u001b[0m\u001b[0;34m)\u001b[0m\u001b[0;34m\u001b[0m\u001b[0;34m\u001b[0m\u001b[0m\n\u001b[0m\u001b[1;32m    438\u001b[0m \u001b[0;34m\u001b[0m\u001b[0m\n\u001b[1;32m    439\u001b[0m         \u001b[0;32mreturn\u001b[0m \u001b[0mout\u001b[0m\u001b[0;34m\u001b[0m\u001b[0;34m\u001b[0m\u001b[0m\n",
      "\u001b[0;32m~/opt/anaconda3/envs/F21DL/lib/python3.8/site-packages/sklearn/base.py\u001b[0m in \u001b[0;36m_check_n_features\u001b[0;34m(self, X, reset)\u001b[0m\n\u001b[1;32m    363\u001b[0m \u001b[0;34m\u001b[0m\u001b[0m\n\u001b[1;32m    364\u001b[0m         \u001b[0;32mif\u001b[0m \u001b[0mn_features\u001b[0m \u001b[0;34m!=\u001b[0m \u001b[0mself\u001b[0m\u001b[0;34m.\u001b[0m\u001b[0mn_features_in_\u001b[0m\u001b[0;34m:\u001b[0m\u001b[0;34m\u001b[0m\u001b[0;34m\u001b[0m\u001b[0m\n\u001b[0;32m--> 365\u001b[0;31m             raise ValueError(\n\u001b[0m\u001b[1;32m    366\u001b[0m                 \u001b[0;34mf\"X has {n_features} features, but {self.__class__.__name__} \"\u001b[0m\u001b[0;34m\u001b[0m\u001b[0;34m\u001b[0m\u001b[0m\n\u001b[1;32m    367\u001b[0m                 f\"is expecting {self.n_features_in_} features as input.\")\n",
      "\u001b[0;31mValueError\u001b[0m: X has 2 features, but KMeans is expecting 5 features as input."
     ]
    }
   ],
   "source": [
    "X_new = np.array([[0, 2], [3, 2], [-3, 3], [-3, 2.5]])\n",
    "kmeans.predict(X_new)"
   ]
  },
  {
   "cell_type": "markdown",
   "id": "23dac689",
   "metadata": {},
   "source": [
    "# calculates the boundaries for the voronoi diagram "
   ]
  },
  {
   "cell_type": "code",
   "execution_count": 73,
   "id": "36b3a14c",
   "metadata": {},
   "outputs": [],
   "source": [
    "def plot_data(X):\n",
    "    plt.plot(X[:, 0], X[:, 1], 'k.', markersize=2)\n",
    "\n",
    "def plot_centroids(centroids, weights=None, circle_color='w', cross_color='k'):\n",
    "    if weights is not None:\n",
    "        centroids = centroids[weights > weights.max() / 10]\n",
    "    plt.scatter(centroids[:, 0], centroids[:, 1],\n",
    "                marker='o', s=30, linewidths=8,\n",
    "                color=circle_color, zorder=10, alpha=0.9)\n",
    "    plt.scatter(centroids[:, 0], centroids[:, 1],\n",
    "                marker='x', s=50, linewidths=50,\n",
    "                color=cross_color, zorder=11, alpha=1)\n",
    "\n",
    "def plot_decision_boundaries(clusterer, X, resolution=1000, show_centroids=True,\n",
    "                             show_xlabels=True, show_ylabels=True):\n",
    "    mins = X.min(axis=0) - 0.1\n",
    "    maxs = X.max(axis=0) + 0.1\n",
    "    xx, yy = np.meshgrid(np.linspace(mins[0], maxs[0], resolution),\n",
    "                         np.linspace(mins[1], maxs[1], resolution))\n",
    "    Z = clusterer.predict(np.c_[xx.ravel(), yy.ravel()])\n",
    "    Z = Z.reshape(xx.shape)\n",
    "\n",
    "    plt.contourf(Z, extent=(mins[0], maxs[0], mins[1], maxs[1]),\n",
    "                cmap=\"Pastel2\")\n",
    "    plt.contour(Z, extent=(mins[0], maxs[0], mins[1], maxs[1]),\n",
    "                linewidths=1, colors='k')\n",
    "    plot_data(X)\n",
    "    if show_centroids:\n",
    "        plot_centroids(clusterer.cluster_centers_)\n",
    "\n",
    "    if show_xlabels:\n",
    "        plt.xlabel(\"$x_1$\", fontsize=14)\n",
    "    else:\n",
    "        plt.tick_params(labelbottom=False)\n",
    "    if show_ylabels:\n",
    "        plt.ylabel(\"$x_2$\", fontsize=14, rotation=0)\n",
    "    else:\n",
    "        plt.tick_params(labelleft=False)"
   ]
  },
  {
   "cell_type": "markdown",
   "id": "eae6e8ea",
   "metadata": {},
   "source": [
    "# displays the graph with the decision boundaries and clusters "
   ]
  },
  {
   "cell_type": "code",
   "execution_count": 95,
   "id": "0ab3f593",
   "metadata": {},
   "outputs": [
    {
     "ename": "ValueError",
     "evalue": "X has 2 features, but KMeans is expecting 5 features as input.",
     "output_type": "error",
     "traceback": [
      "\u001b[0;31m---------------------------------------------------------------------------\u001b[0m",
      "\u001b[0;31mValueError\u001b[0m                                Traceback (most recent call last)",
      "\u001b[0;32m/var/folders/5c/nf8c_4rj26j38ll_3t2bfz7r0000gn/T/ipykernel_95824/4155505384.py\u001b[0m in \u001b[0;36m<module>\u001b[0;34m\u001b[0m\n\u001b[1;32m      1\u001b[0m \u001b[0mplt\u001b[0m\u001b[0;34m.\u001b[0m\u001b[0mfigure\u001b[0m\u001b[0;34m(\u001b[0m\u001b[0mfigsize\u001b[0m\u001b[0;34m=\u001b[0m\u001b[0;34m(\u001b[0m\u001b[0;36m8\u001b[0m\u001b[0;34m,\u001b[0m \u001b[0;36m4\u001b[0m\u001b[0;34m)\u001b[0m\u001b[0;34m)\u001b[0m\u001b[0;34m\u001b[0m\u001b[0;34m\u001b[0m\u001b[0m\n\u001b[0;32m----> 2\u001b[0;31m \u001b[0mplot_decision_boundaries\u001b[0m\u001b[0;34m(\u001b[0m\u001b[0mkmeans\u001b[0m\u001b[0;34m,\u001b[0m \u001b[0mX\u001b[0m\u001b[0;34m)\u001b[0m\u001b[0;34m\u001b[0m\u001b[0;34m\u001b[0m\u001b[0m\n\u001b[0m\u001b[1;32m      3\u001b[0m \u001b[0mplt\u001b[0m\u001b[0;34m.\u001b[0m\u001b[0mshow\u001b[0m\u001b[0;34m(\u001b[0m\u001b[0;34m)\u001b[0m\u001b[0;34m\u001b[0m\u001b[0;34m\u001b[0m\u001b[0m\n",
      "\u001b[0;32m/var/folders/5c/nf8c_4rj26j38ll_3t2bfz7r0000gn/T/ipykernel_95824/2020018351.py\u001b[0m in \u001b[0;36mplot_decision_boundaries\u001b[0;34m(clusterer, X, resolution, show_centroids, show_xlabels, show_ylabels)\u001b[0m\n\u001b[1;32m     18\u001b[0m     xx, yy = np.meshgrid(np.linspace(mins[0], maxs[0], resolution),\n\u001b[1;32m     19\u001b[0m                          np.linspace(mins[1], maxs[1], resolution))\n\u001b[0;32m---> 20\u001b[0;31m     \u001b[0mZ\u001b[0m \u001b[0;34m=\u001b[0m \u001b[0mclusterer\u001b[0m\u001b[0;34m.\u001b[0m\u001b[0mpredict\u001b[0m\u001b[0;34m(\u001b[0m\u001b[0mnp\u001b[0m\u001b[0;34m.\u001b[0m\u001b[0mc_\u001b[0m\u001b[0;34m[\u001b[0m\u001b[0mxx\u001b[0m\u001b[0;34m.\u001b[0m\u001b[0mravel\u001b[0m\u001b[0;34m(\u001b[0m\u001b[0;34m)\u001b[0m\u001b[0;34m,\u001b[0m \u001b[0myy\u001b[0m\u001b[0;34m.\u001b[0m\u001b[0mravel\u001b[0m\u001b[0;34m(\u001b[0m\u001b[0;34m)\u001b[0m\u001b[0;34m]\u001b[0m\u001b[0;34m)\u001b[0m\u001b[0;34m\u001b[0m\u001b[0;34m\u001b[0m\u001b[0m\n\u001b[0m\u001b[1;32m     21\u001b[0m     \u001b[0mZ\u001b[0m \u001b[0;34m=\u001b[0m \u001b[0mZ\u001b[0m\u001b[0;34m.\u001b[0m\u001b[0mreshape\u001b[0m\u001b[0;34m(\u001b[0m\u001b[0mxx\u001b[0m\u001b[0;34m.\u001b[0m\u001b[0mshape\u001b[0m\u001b[0;34m)\u001b[0m\u001b[0;34m\u001b[0m\u001b[0;34m\u001b[0m\u001b[0m\n\u001b[1;32m     22\u001b[0m \u001b[0;34m\u001b[0m\u001b[0m\n",
      "\u001b[0;32m~/opt/anaconda3/envs/F21DL/lib/python3.8/site-packages/sklearn/cluster/_kmeans.py\u001b[0m in \u001b[0;36mpredict\u001b[0;34m(self, X, sample_weight)\u001b[0m\n\u001b[1;32m   1154\u001b[0m         \u001b[0mcheck_is_fitted\u001b[0m\u001b[0;34m(\u001b[0m\u001b[0mself\u001b[0m\u001b[0;34m)\u001b[0m\u001b[0;34m\u001b[0m\u001b[0;34m\u001b[0m\u001b[0m\n\u001b[1;32m   1155\u001b[0m \u001b[0;34m\u001b[0m\u001b[0m\n\u001b[0;32m-> 1156\u001b[0;31m         \u001b[0mX\u001b[0m \u001b[0;34m=\u001b[0m \u001b[0mself\u001b[0m\u001b[0;34m.\u001b[0m\u001b[0m_check_test_data\u001b[0m\u001b[0;34m(\u001b[0m\u001b[0mX\u001b[0m\u001b[0;34m)\u001b[0m\u001b[0;34m\u001b[0m\u001b[0;34m\u001b[0m\u001b[0m\n\u001b[0m\u001b[1;32m   1157\u001b[0m         \u001b[0mx_squared_norms\u001b[0m \u001b[0;34m=\u001b[0m \u001b[0mrow_norms\u001b[0m\u001b[0;34m(\u001b[0m\u001b[0mX\u001b[0m\u001b[0;34m,\u001b[0m \u001b[0msquared\u001b[0m\u001b[0;34m=\u001b[0m\u001b[0;32mTrue\u001b[0m\u001b[0;34m)\u001b[0m\u001b[0;34m\u001b[0m\u001b[0;34m\u001b[0m\u001b[0m\n\u001b[1;32m   1158\u001b[0m         \u001b[0msample_weight\u001b[0m \u001b[0;34m=\u001b[0m \u001b[0m_check_sample_weight\u001b[0m\u001b[0;34m(\u001b[0m\u001b[0msample_weight\u001b[0m\u001b[0;34m,\u001b[0m \u001b[0mX\u001b[0m\u001b[0;34m,\u001b[0m \u001b[0mdtype\u001b[0m\u001b[0;34m=\u001b[0m\u001b[0mX\u001b[0m\u001b[0;34m.\u001b[0m\u001b[0mdtype\u001b[0m\u001b[0;34m)\u001b[0m\u001b[0;34m\u001b[0m\u001b[0;34m\u001b[0m\u001b[0m\n",
      "\u001b[0;32m~/opt/anaconda3/envs/F21DL/lib/python3.8/site-packages/sklearn/cluster/_kmeans.py\u001b[0m in \u001b[0;36m_check_test_data\u001b[0;34m(self, X)\u001b[0m\n\u001b[1;32m    856\u001b[0m \u001b[0;34m\u001b[0m\u001b[0m\n\u001b[1;32m    857\u001b[0m     \u001b[0;32mdef\u001b[0m \u001b[0m_check_test_data\u001b[0m\u001b[0;34m(\u001b[0m\u001b[0mself\u001b[0m\u001b[0;34m,\u001b[0m \u001b[0mX\u001b[0m\u001b[0;34m)\u001b[0m\u001b[0;34m:\u001b[0m\u001b[0;34m\u001b[0m\u001b[0;34m\u001b[0m\u001b[0m\n\u001b[0;32m--> 858\u001b[0;31m         X = self._validate_data(X, accept_sparse='csr', reset=False,\n\u001b[0m\u001b[1;32m    859\u001b[0m                                 \u001b[0mdtype\u001b[0m\u001b[0;34m=\u001b[0m\u001b[0;34m[\u001b[0m\u001b[0mnp\u001b[0m\u001b[0;34m.\u001b[0m\u001b[0mfloat64\u001b[0m\u001b[0;34m,\u001b[0m \u001b[0mnp\u001b[0m\u001b[0;34m.\u001b[0m\u001b[0mfloat32\u001b[0m\u001b[0;34m]\u001b[0m\u001b[0;34m,\u001b[0m\u001b[0;34m\u001b[0m\u001b[0;34m\u001b[0m\u001b[0m\n\u001b[1;32m    860\u001b[0m                                 order='C', accept_large_sparse=False)\n",
      "\u001b[0;32m~/opt/anaconda3/envs/F21DL/lib/python3.8/site-packages/sklearn/base.py\u001b[0m in \u001b[0;36m_validate_data\u001b[0;34m(self, X, y, reset, validate_separately, **check_params)\u001b[0m\n\u001b[1;32m    435\u001b[0m \u001b[0;34m\u001b[0m\u001b[0m\n\u001b[1;32m    436\u001b[0m         \u001b[0;32mif\u001b[0m \u001b[0mcheck_params\u001b[0m\u001b[0;34m.\u001b[0m\u001b[0mget\u001b[0m\u001b[0;34m(\u001b[0m\u001b[0;34m'ensure_2d'\u001b[0m\u001b[0;34m,\u001b[0m \u001b[0;32mTrue\u001b[0m\u001b[0;34m)\u001b[0m\u001b[0;34m:\u001b[0m\u001b[0;34m\u001b[0m\u001b[0;34m\u001b[0m\u001b[0m\n\u001b[0;32m--> 437\u001b[0;31m             \u001b[0mself\u001b[0m\u001b[0;34m.\u001b[0m\u001b[0m_check_n_features\u001b[0m\u001b[0;34m(\u001b[0m\u001b[0mX\u001b[0m\u001b[0;34m,\u001b[0m \u001b[0mreset\u001b[0m\u001b[0;34m=\u001b[0m\u001b[0mreset\u001b[0m\u001b[0;34m)\u001b[0m\u001b[0;34m\u001b[0m\u001b[0;34m\u001b[0m\u001b[0m\n\u001b[0m\u001b[1;32m    438\u001b[0m \u001b[0;34m\u001b[0m\u001b[0m\n\u001b[1;32m    439\u001b[0m         \u001b[0;32mreturn\u001b[0m \u001b[0mout\u001b[0m\u001b[0;34m\u001b[0m\u001b[0;34m\u001b[0m\u001b[0m\n",
      "\u001b[0;32m~/opt/anaconda3/envs/F21DL/lib/python3.8/site-packages/sklearn/base.py\u001b[0m in \u001b[0;36m_check_n_features\u001b[0;34m(self, X, reset)\u001b[0m\n\u001b[1;32m    363\u001b[0m \u001b[0;34m\u001b[0m\u001b[0m\n\u001b[1;32m    364\u001b[0m         \u001b[0;32mif\u001b[0m \u001b[0mn_features\u001b[0m \u001b[0;34m!=\u001b[0m \u001b[0mself\u001b[0m\u001b[0;34m.\u001b[0m\u001b[0mn_features_in_\u001b[0m\u001b[0;34m:\u001b[0m\u001b[0;34m\u001b[0m\u001b[0;34m\u001b[0m\u001b[0m\n\u001b[0;32m--> 365\u001b[0;31m             raise ValueError(\n\u001b[0m\u001b[1;32m    366\u001b[0m                 \u001b[0;34mf\"X has {n_features} features, but {self.__class__.__name__} \"\u001b[0m\u001b[0;34m\u001b[0m\u001b[0;34m\u001b[0m\u001b[0m\n\u001b[1;32m    367\u001b[0m                 f\"is expecting {self.n_features_in_} features as input.\")\n",
      "\u001b[0;31mValueError\u001b[0m: X has 2 features, but KMeans is expecting 5 features as input."
     ]
    },
    {
     "data": {
      "text/plain": [
       "<Figure size 576x288 with 0 Axes>"
      ]
     },
     "metadata": {},
     "output_type": "display_data"
    }
   ],
   "source": [
    "plt.figure(figsize=(8, 4))\n",
    "plot_decision_boundaries(kmeans, X)\n",
    "plt.show()"
   ]
  },
  {
   "cell_type": "markdown",
   "id": "a766ba2c",
   "metadata": {},
   "source": [
    "# soft clustering "
   ]
  },
  {
   "cell_type": "code",
   "execution_count": 74,
   "id": "6a065bf9",
   "metadata": {},
   "outputs": [
    {
     "ename": "ValueError",
     "evalue": "X has 2 features, but KMeans is expecting 5 features as input.",
     "output_type": "error",
     "traceback": [
      "\u001b[0;31m---------------------------------------------------------------------------\u001b[0m",
      "\u001b[0;31mValueError\u001b[0m                                Traceback (most recent call last)",
      "\u001b[0;32m/var/folders/5c/nf8c_4rj26j38ll_3t2bfz7r0000gn/T/ipykernel_58007/3497463594.py\u001b[0m in \u001b[0;36m<module>\u001b[0;34m\u001b[0m\n\u001b[0;32m----> 1\u001b[0;31m \u001b[0mkmeans\u001b[0m\u001b[0;34m.\u001b[0m\u001b[0mtransform\u001b[0m\u001b[0;34m(\u001b[0m\u001b[0mX_new\u001b[0m\u001b[0;34m)\u001b[0m\u001b[0;34m\u001b[0m\u001b[0;34m\u001b[0m\u001b[0m\n\u001b[0m",
      "\u001b[0;32m~/opt/anaconda3/envs/F21DL/lib/python3.8/site-packages/sklearn/cluster/_kmeans.py\u001b[0m in \u001b[0;36mtransform\u001b[0;34m(self, X)\u001b[0m\n\u001b[1;32m   1124\u001b[0m         \u001b[0mcheck_is_fitted\u001b[0m\u001b[0;34m(\u001b[0m\u001b[0mself\u001b[0m\u001b[0;34m)\u001b[0m\u001b[0;34m\u001b[0m\u001b[0;34m\u001b[0m\u001b[0m\n\u001b[1;32m   1125\u001b[0m \u001b[0;34m\u001b[0m\u001b[0m\n\u001b[0;32m-> 1126\u001b[0;31m         \u001b[0mX\u001b[0m \u001b[0;34m=\u001b[0m \u001b[0mself\u001b[0m\u001b[0;34m.\u001b[0m\u001b[0m_check_test_data\u001b[0m\u001b[0;34m(\u001b[0m\u001b[0mX\u001b[0m\u001b[0;34m)\u001b[0m\u001b[0;34m\u001b[0m\u001b[0;34m\u001b[0m\u001b[0m\n\u001b[0m\u001b[1;32m   1127\u001b[0m         \u001b[0;32mreturn\u001b[0m \u001b[0mself\u001b[0m\u001b[0;34m.\u001b[0m\u001b[0m_transform\u001b[0m\u001b[0;34m(\u001b[0m\u001b[0mX\u001b[0m\u001b[0;34m)\u001b[0m\u001b[0;34m\u001b[0m\u001b[0;34m\u001b[0m\u001b[0m\n\u001b[1;32m   1128\u001b[0m \u001b[0;34m\u001b[0m\u001b[0m\n",
      "\u001b[0;32m~/opt/anaconda3/envs/F21DL/lib/python3.8/site-packages/sklearn/cluster/_kmeans.py\u001b[0m in \u001b[0;36m_check_test_data\u001b[0;34m(self, X)\u001b[0m\n\u001b[1;32m    856\u001b[0m \u001b[0;34m\u001b[0m\u001b[0m\n\u001b[1;32m    857\u001b[0m     \u001b[0;32mdef\u001b[0m \u001b[0m_check_test_data\u001b[0m\u001b[0;34m(\u001b[0m\u001b[0mself\u001b[0m\u001b[0;34m,\u001b[0m \u001b[0mX\u001b[0m\u001b[0;34m)\u001b[0m\u001b[0;34m:\u001b[0m\u001b[0;34m\u001b[0m\u001b[0;34m\u001b[0m\u001b[0m\n\u001b[0;32m--> 858\u001b[0;31m         X = self._validate_data(X, accept_sparse='csr', reset=False,\n\u001b[0m\u001b[1;32m    859\u001b[0m                                 \u001b[0mdtype\u001b[0m\u001b[0;34m=\u001b[0m\u001b[0;34m[\u001b[0m\u001b[0mnp\u001b[0m\u001b[0;34m.\u001b[0m\u001b[0mfloat64\u001b[0m\u001b[0;34m,\u001b[0m \u001b[0mnp\u001b[0m\u001b[0;34m.\u001b[0m\u001b[0mfloat32\u001b[0m\u001b[0;34m]\u001b[0m\u001b[0;34m,\u001b[0m\u001b[0;34m\u001b[0m\u001b[0;34m\u001b[0m\u001b[0m\n\u001b[1;32m    860\u001b[0m                                 order='C', accept_large_sparse=False)\n",
      "\u001b[0;32m~/opt/anaconda3/envs/F21DL/lib/python3.8/site-packages/sklearn/base.py\u001b[0m in \u001b[0;36m_validate_data\u001b[0;34m(self, X, y, reset, validate_separately, **check_params)\u001b[0m\n\u001b[1;32m    435\u001b[0m \u001b[0;34m\u001b[0m\u001b[0m\n\u001b[1;32m    436\u001b[0m         \u001b[0;32mif\u001b[0m \u001b[0mcheck_params\u001b[0m\u001b[0;34m.\u001b[0m\u001b[0mget\u001b[0m\u001b[0;34m(\u001b[0m\u001b[0;34m'ensure_2d'\u001b[0m\u001b[0;34m,\u001b[0m \u001b[0;32mTrue\u001b[0m\u001b[0;34m)\u001b[0m\u001b[0;34m:\u001b[0m\u001b[0;34m\u001b[0m\u001b[0;34m\u001b[0m\u001b[0m\n\u001b[0;32m--> 437\u001b[0;31m             \u001b[0mself\u001b[0m\u001b[0;34m.\u001b[0m\u001b[0m_check_n_features\u001b[0m\u001b[0;34m(\u001b[0m\u001b[0mX\u001b[0m\u001b[0;34m,\u001b[0m \u001b[0mreset\u001b[0m\u001b[0;34m=\u001b[0m\u001b[0mreset\u001b[0m\u001b[0;34m)\u001b[0m\u001b[0;34m\u001b[0m\u001b[0;34m\u001b[0m\u001b[0m\n\u001b[0m\u001b[1;32m    438\u001b[0m \u001b[0;34m\u001b[0m\u001b[0m\n\u001b[1;32m    439\u001b[0m         \u001b[0;32mreturn\u001b[0m \u001b[0mout\u001b[0m\u001b[0;34m\u001b[0m\u001b[0;34m\u001b[0m\u001b[0m\n",
      "\u001b[0;32m~/opt/anaconda3/envs/F21DL/lib/python3.8/site-packages/sklearn/base.py\u001b[0m in \u001b[0;36m_check_n_features\u001b[0;34m(self, X, reset)\u001b[0m\n\u001b[1;32m    363\u001b[0m \u001b[0;34m\u001b[0m\u001b[0m\n\u001b[1;32m    364\u001b[0m         \u001b[0;32mif\u001b[0m \u001b[0mn_features\u001b[0m \u001b[0;34m!=\u001b[0m \u001b[0mself\u001b[0m\u001b[0;34m.\u001b[0m\u001b[0mn_features_in_\u001b[0m\u001b[0;34m:\u001b[0m\u001b[0;34m\u001b[0m\u001b[0;34m\u001b[0m\u001b[0m\n\u001b[0;32m--> 365\u001b[0;31m             raise ValueError(\n\u001b[0m\u001b[1;32m    366\u001b[0m                 \u001b[0;34mf\"X has {n_features} features, but {self.__class__.__name__} \"\u001b[0m\u001b[0;34m\u001b[0m\u001b[0;34m\u001b[0m\u001b[0m\n\u001b[1;32m    367\u001b[0m                 f\"is expecting {self.n_features_in_} features as input.\")\n",
      "\u001b[0;31mValueError\u001b[0m: X has 2 features, but KMeans is expecting 5 features as input."
     ]
    }
   ],
   "source": [
    "kmeans.transform(X_new)"
   ]
  },
  {
   "cell_type": "code",
   "execution_count": 460,
   "id": "816f6e0e",
   "metadata": {},
   "outputs": [
    {
     "data": {
      "text/plain": [
       "array([[2.81093633, 0.32995317, 2.9042344 , 1.49439034, 2.88633901],\n",
       "       [5.80730058, 2.80290755, 5.84739223, 4.4759332 , 5.84236351],\n",
       "       [1.21475352, 3.29399768, 0.29040966, 1.69136631, 1.71086031],\n",
       "       [0.72581411, 3.21806371, 0.36159148, 1.54808703, 1.21567622]])"
      ]
     },
     "execution_count": 460,
     "metadata": {},
     "output_type": "execute_result"
    }
   ],
   "source": [
    "np.linalg.norm(np.tile(X_new, (1, k)).reshape(-1, k, 2) - kmeans.cluster_centers_, axis=2)"
   ]
  },
  {
   "cell_type": "markdown",
   "id": "d34624bb",
   "metadata": {},
   "source": [
    "# K-means algorithm, applies the algorithm until convergence "
   ]
  },
  {
   "cell_type": "code",
   "execution_count": 461,
   "id": "0b490b3c",
   "metadata": {},
   "outputs": [
    {
     "data": {
      "text/plain": [
       "KMeans(algorithm='full', init='random', max_iter=3, n_clusters=5, n_init=1,\n",
       "       random_state=1)"
      ]
     },
     "execution_count": 461,
     "metadata": {},
     "output_type": "execute_result"
    }
   ],
   "source": [
    "kmeans_iter1 = KMeans(n_clusters=5, init=\"random\", n_init=1,\n",
    "                     algorithm=\"full\", max_iter=1, random_state=1)\n",
    "kmeans_iter2 = KMeans(n_clusters=5, init=\"random\", n_init=1,\n",
    "                     algorithm=\"full\", max_iter=2, random_state=1)\n",
    "kmeans_iter3 = KMeans(n_clusters=5, init=\"random\", n_init=1,\n",
    "                     algorithm=\"full\", max_iter=3, random_state=1)\n",
    "kmeans_iter1.fit(X)\n",
    "kmeans_iter2.fit(X)\n",
    "kmeans_iter3.fit(X)"
   ]
  },
  {
   "cell_type": "code",
   "execution_count": 464,
   "id": "fad9c443",
   "metadata": {},
   "outputs": [
    {
     "data": {
      "image/png": "[encoded data removed]",
      "text/plain": [
       "<Figure size 720x576 with 6 Axes>"
      ]
     },
     "metadata": {
      "needs_background": "light"
     },
     "output_type": "display_data"
    }
   ],
   "source": [
    "plt.figure(figsize=(10, 8))\n",
    "\n",
    "plt.subplot(321)\n",
    "plot_data(X)\n",
    "plot_centroids(kmeans_iter1.cluster_centers_, circle_color='r', cross_color='w')\n",
    "plt.ylabel(\"$x_2$\", fontsize=14, rotation=0)\n",
    "plt.tick_params(labelbottom=False)\n",
    "plt.title(\"Update the centroids (initially randomly)\", fontsize=14)\n",
    "\n",
    "plt.subplot(322)\n",
    "plot_decision_boundaries(kmeans_iter1, X, show_xlabels=False, show_ylabels=False)\n",
    "plt.title(\"Label the instances\", fontsize=14)\n",
    "\n",
    "plt.subplot(323)\n",
    "plot_decision_boundaries(kmeans_iter1, X, show_centroids=False, show_xlabels=False)\n",
    "plot_centroids(kmeans_iter2.cluster_centers_)\n",
    "\n",
    "plt.subplot(324)\n",
    "plot_decision_boundaries(kmeans_iter2, X, show_xlabels=False, show_ylabels=False)\n",
    "\n",
    "plt.subplot(325)\n",
    "plot_decision_boundaries(kmeans_iter2, X, show_centroids=False)\n",
    "plot_centroids(kmeans_iter3.cluster_centers_)\n",
    "\n",
    "plt.subplot(326)\n",
    "plot_decision_boundaries(kmeans_iter3, X, show_ylabels=False)\n",
    "\n",
    "plt.show()"
   ]
  },
  {
   "cell_type": "markdown",
   "id": "0f436e54",
   "metadata": {},
   "source": [
    "# shows the issue of the algorithm as if it is run multiple times then it can lead to differant solutions from the same data"
   ]
  },
  {
   "cell_type": "code",
   "execution_count": 465,
   "id": "889e66d2",
   "metadata": {},
   "outputs": [],
   "source": [
    "def plot_clusterer_comparison(clusterer1, clusterer2, X, title1=None, title2=None):\n",
    "    clusterer1.fit(X)\n",
    "    clusterer2.fit(X)\n",
    "\n",
    "    plt.figure(figsize=(10, 3.2))\n",
    "\n",
    "    plt.subplot(121)\n",
    "    plot_decision_boundaries(clusterer1, X)\n",
    "    if title1:\n",
    "        plt.title(title1, fontsize=14)\n",
    "\n",
    "    plt.subplot(122)\n",
    "    plot_decision_boundaries(clusterer2, X, show_ylabels=False)\n",
    "    if title2:\n",
    "        plt.title(title2, fontsize=14)"
   ]
  },
  {
   "cell_type": "code",
   "execution_count": 466,
   "id": "bf31dc87",
   "metadata": {},
   "outputs": [
    {
     "data": {
      "image/png": "[encoded data removed]",
      "text/plain": [
       "<Figure size 720x230.4 with 2 Axes>"
      ]
     },
     "metadata": {
      "needs_background": "light"
     },
     "output_type": "display_data"
    }
   ],
   "source": [
    "kmeans_rnd_init1 = KMeans(n_clusters=5, init=\"random\", n_init=1,\n",
    "                         algorithm=\"full\", random_state=44)\n",
    "kmeans_rnd_init2 = KMeans(n_clusters=5, init=\"random\", n_init=1,\n",
    "                         algorithm=\"full\", random_state=64)\n",
    "\n",
    "plot_clusterer_comparison(kmeans_rnd_init1, kmeans_rnd_init2, X,\n",
    "                          \"Solution 1\", \"Solution 2 (with a different random init)\")\n",
    "plt.show()"
   ]
  },
  {
   "cell_type": "markdown",
   "id": "5a54ec43",
   "metadata": {},
   "source": [
    "# use of inertia "
   ]
  },
  {
   "cell_type": "code",
   "execution_count": 467,
   "id": "bf68ee30",
   "metadata": {},
   "outputs": [
    {
     "data": {
      "text/plain": [
       "211.59853725816828"
      ]
     },
     "execution_count": 467,
     "metadata": {},
     "output_type": "execute_result"
    }
   ],
   "source": [
    "kmeans.inertia_"
   ]
  },
  {
   "cell_type": "code",
   "execution_count": 468,
   "id": "0eb6c6ae",
   "metadata": {},
   "outputs": [
    {
     "data": {
      "text/plain": [
       "211.59853725816856"
      ]
     },
     "execution_count": 468,
     "metadata": {},
     "output_type": "execute_result"
    }
   ],
   "source": [
    "X_dist = kmeans.transform(X)\n",
    "np.sum(X_dist[np.arange(len(X_dist)), kmeans.labels_]**2)"
   ]
  },
  {
   "cell_type": "code",
   "execution_count": 469,
   "id": "d6a4cefa",
   "metadata": {},
   "outputs": [
    {
     "data": {
      "text/plain": [
       "-211.5985372581683"
      ]
     },
     "execution_count": 469,
     "metadata": {},
     "output_type": "execute_result"
    }
   ],
   "source": [
    "kmeans.score(X)"
   ]
  },
  {
   "cell_type": "markdown",
   "id": "5d44c758",
   "metadata": {},
   "source": [
    "# shows the 2 inertia scores "
   ]
  },
  {
   "cell_type": "code",
   "execution_count": 470,
   "id": "2266846b",
   "metadata": {},
   "outputs": [
    {
     "data": {
      "text/plain": [
       "219.46374222419135"
      ]
     },
     "execution_count": 470,
     "metadata": {},
     "output_type": "execute_result"
    }
   ],
   "source": [
    "kmeans_rnd_init1.inertia_"
   ]
  },
  {
   "cell_type": "code",
   "execution_count": 471,
   "id": "0991b115",
   "metadata": {},
   "outputs": [
    {
     "data": {
      "text/plain": [
       "211.59853725816828"
      ]
     },
     "execution_count": 471,
     "metadata": {},
     "output_type": "execute_result"
    }
   ],
   "source": [
    "kmeans_rnd_init2.inertia_"
   ]
  },
  {
   "cell_type": "markdown",
   "id": "7613b19c",
   "metadata": {},
   "source": [
    "# runs the algorithm 10 times by defualt and finds the solution that will minimise the inertia value "
   ]
  },
  {
   "cell_type": "code",
   "execution_count": 472,
   "id": "8becd152",
   "metadata": {},
   "outputs": [
    {
     "data": {
      "text/plain": [
       "KMeans(algorithm='full', init='random', n_clusters=5, random_state=11)"
      ]
     },
     "execution_count": 472,
     "metadata": {},
     "output_type": "execute_result"
    }
   ],
   "source": [
    "kmeans_rnd_10_inits = KMeans(n_clusters=5, init=\"random\", n_init=10,\n",
    "                              algorithm=\"full\", random_state=11)\n",
    "kmeans_rnd_10_inits.fit(X)"
   ]
  },
  {
   "cell_type": "markdown",
   "id": "253724ac",
   "metadata": {},
   "source": [
    "# shows the original modle was the best as after the 10 runs it gives cluster to be 5"
   ]
  },
  {
   "cell_type": "code",
   "execution_count": 473,
   "id": "20a8f6d1",
   "metadata": {},
   "outputs": [
    {
     "data": {
      "image/png": "[encoded data removed]",
      "text/plain": [
       "<Figure size 576x288 with 1 Axes>"
      ]
     },
     "metadata": {
      "needs_background": "light"
     },
     "output_type": "display_data"
    }
   ],
   "source": [
    "plt.figure(figsize=(8, 4))\n",
    "plot_decision_boundaries(kmeans_rnd_10_inits, X)\n",
    "plt.show()"
   ]
  },
  {
   "cell_type": "markdown",
   "id": "6f77bfa9",
   "metadata": {},
   "source": [
    "# look to see if the clusters improve by changing the number of clusters"
   ]
  },
  {
   "cell_type": "code",
   "execution_count": 474,
   "id": "9066fed3",
   "metadata": {},
   "outputs": [
    {
     "data": {
      "image/png": "[encoded data removed]",
      "text/plain": [
       "<Figure size 720x230.4 with 2 Axes>"
      ]
     },
     "metadata": {
      "needs_background": "light"
     },
     "output_type": "display_data"
    }
   ],
   "source": [
    "kmeans_k3 = KMeans(n_clusters=3, random_state=42)\n",
    "kmeans_k8 = KMeans(n_clusters=8, random_state=42)\n",
    "\n",
    "plot_clusterer_comparison(kmeans_k3, kmeans_k8, X, \"$k=3$\", \"$k=8$\")\n",
    "plt.show()"
   ]
  },
  {
   "cell_type": "code",
   "execution_count": 476,
   "id": "c2174a6d",
   "metadata": {},
   "outputs": [
    {
     "data": {
      "text/plain": [
       "653.2167190021557"
      ]
     },
     "execution_count": 476,
     "metadata": {},
     "output_type": "execute_result"
    }
   ],
   "source": [
    "kmeans_k3.inertia_"
   ]
  },
  {
   "cell_type": "code",
   "execution_count": 477,
   "id": "f1635b00",
   "metadata": {},
   "outputs": [
    {
     "data": {
      "text/plain": [
       "119.11983416102889"
      ]
     },
     "execution_count": 477,
     "metadata": {},
     "output_type": "execute_result"
    }
   ],
   "source": [
    "kmeans_k8.inertia_"
   ]
  },
  {
   "cell_type": "code",
   "execution_count": 478,
   "id": "db76e7b1",
   "metadata": {},
   "outputs": [],
   "source": [
    "kmeans_per_k = [KMeans(n_clusters=k, random_state=42).fit(X)\n",
    "                for k in range(1, 10)]\n",
    "inertias = [model.inertia_ for model in kmeans_per_k]"
   ]
  },
  {
   "cell_type": "markdown",
   "id": "55e97c67",
   "metadata": {},
   "source": [
    "# graph shows the change inertia score as the k number changes"
   ]
  },
  {
   "cell_type": "code",
   "execution_count": 479,
   "id": "8923f6cb",
   "metadata": {},
   "outputs": [
    {
     "data": {
      "image/png": "[encoded data removed]",
      "text/plain": [
       "<Figure size 576x252 with 1 Axes>"
      ]
     },
     "metadata": {
      "needs_background": "light"
     },
     "output_type": "display_data"
    }
   ],
   "source": [
    "plt.figure(figsize=(8, 3.5))\n",
    "plt.plot(range(1, 10), inertias, \"bo-\")\n",
    "plt.xlabel(\"$k$\", fontsize=14)\n",
    "plt.ylabel(\"Inertia\", fontsize=14)\n",
    "plt.annotate('Elbow',\n",
    "             xy=(4, inertias[3]),\n",
    "             xytext=(0.55, 0.55),\n",
    "             textcoords='figure fraction',\n",
    "             fontsize=16,\n",
    "             arrowprops=dict(facecolor='black', shrink=0.1)\n",
    "            )\n",
    "plt.axis([1, 8.5, 0, 1300])\n",
    "plt.show()"
   ]
  },
  {
   "cell_type": "markdown",
   "id": "8fa15a0d",
   "metadata": {},
   "source": [
    "# shows that any k lower than 4 is not optimal for the algorithm "
   ]
  },
  {
   "cell_type": "code",
   "execution_count": 480,
   "id": "cc81325c",
   "metadata": {},
   "outputs": [
    {
     "data": {
      "image/png": "[encoded data removed]",
      "text/plain": [
       "<Figure size 432x288 with 1 Axes>"
      ]
     },
     "metadata": {
      "needs_background": "light"
     },
     "output_type": "display_data"
    }
   ],
   "source": [
    "plot_decision_boundaries(kmeans_per_k[4-1], X)\n",
    "plt.show()"
   ]
  },
  {
   "cell_type": "code",
   "execution_count": 96,
   "id": "cef97a58",
   "metadata": {},
   "outputs": [],
   "source": [
    "import os \n",
    "np.random.seed(42)\n",
    "%matplotlib inline\n",
    "import matplotlib as mpl\n",
    "import matplotlib.pyplot as plt\n",
    "mpl.rc('axes', labelsize=14)\n",
    "mpl.rc('xtick', labelsize=12)\n",
    "mpl.rc('ytick', labelsize=12)"
   ]
  },
  {
   "cell_type": "markdown",
   "id": "bcaa6a35",
   "metadata": {},
   "source": [
    "# Decision tree"
   ]
  },
  {
   "cell_type": "code",
   "execution_count": 75,
   "id": "21a9969a",
   "metadata": {},
   "outputs": [
    {
     "data": {
      "text/plain": [
       "DecisionTreeClassifier(max_depth=2, random_state=42)"
      ]
     },
     "execution_count": 75,
     "metadata": {},
     "output_type": "execute_result"
    }
   ],
   "source": [
    "from sklearn.tree import DecisionTreeClassifier,plot_tree\n",
    "\n",
    "tree_clf = DecisionTreeClassifier(max_depth=2, random_state=42)\n",
    "tree_clf.fit(X, y)"
   ]
  },
  {
   "cell_type": "code",
   "execution_count": 76,
   "id": "8042ffdd",
   "metadata": {},
   "outputs": [
    {
     "data": {
      "image/png": "[encoded data removed]",
      "text/plain": [
       "<Figure size 432x288 with 1 Axes>"
      ]
     },
     "metadata": {
      "needs_background": "light"
     },
     "output_type": "display_data"
    }
   ],
   "source": [
    "plot_tree(tree_clf);"
   ]
  },
  {
   "cell_type": "markdown",
   "id": "a7512841",
   "metadata": {},
   "source": [
    "# accuracy of the decision tree "
   ]
  },
  {
   "cell_type": "code",
   "execution_count": 77,
   "id": "81344696",
   "metadata": {},
   "outputs": [
    {
     "name": "stdout",
     "output_type": "stream",
     "text": [
      "Accuracy: 0.061224489795918366\n"
     ]
    }
   ],
   "source": [
    "# Create Decision Tree classifer object\n",
    "clf = DecisionTreeClassifier(criterion=\"entropy\", max_depth=2)\n",
    "\n",
    "# Train Decision Tree Classifer\n",
    "clf = clf.fit(Xtrain,ytrain)\n",
    "\n",
    "#Predict the response for test dataset\n",
    "y_pred = clf.predict(Xtest)\n",
    "\n",
    "# Model Accuracy, how often is the classifier correct?\n",
    "print(\"Accuracy:\",metrics.accuracy_score(ytest, y_pred))"
   ]
  },
  {
   "cell_type": "markdown",
   "id": "53bf77e6",
   "metadata": {},
   "source": [
    "# Linear Regression "
   ]
  },
  {
   "cell_type": "code",
   "execution_count": 78,
   "id": "b6801871",
   "metadata": {},
   "outputs": [
    {
     "data": {
      "image/png": "[encoded data removed]",
      "text/plain": [
       "<Figure size 432x288 with 1 Axes>"
      ]
     },
     "metadata": {
      "needs_background": "light"
     },
     "output_type": "display_data"
    }
   ],
   "source": [
    "plt.plot(X, y, \"b.\")\n",
    "plt.xlabel(\"$x_1$\", fontsize=18)\n",
    "plt.ylabel(\"$y$\", rotation=0, fontsize=18)\n",
    "plt.axis([0, 300, 0, 50])\n",
    "plt.show()"
   ]
  },
  {
   "cell_type": "markdown",
   "id": "c546517f",
   "metadata": {},
   "source": [
    "# shows the accuracy of the 10 fold cross validation algorithm"
   ]
  },
  {
   "cell_type": "code",
   "execution_count": 79,
   "id": "2b8706d6",
   "metadata": {
    "scrolled": true
   },
   "outputs": [
    {
     "name": "stdout",
     "output_type": "stream",
     "text": [
      "accuracy of each fold - [0.061224489795918366, 0.061224489795918366, 0.061224489795918366, 0.061224489795918366, 0.061224489795918366, 0.061224489795918366, 0.061224489795918366, 0.061224489795918366, 0.061224489795918366, 0.061224489795918366]\n",
      "Avg accuracy : 0.061224489795918366\n"
     ]
    }
   ],
   "source": [
    "#Importing required libraries\n",
    "import pandas as pd\n",
    "from sklearn.model_selection import KFold \n",
    "from sklearn.linear_model import LogisticRegression\n",
    "from sklearn.metrics import accuracy_score\n",
    "\n",
    " \n",
    "#Implementing cross validation\n",
    " \n",
    "k = 10\n",
    "kf = KFold(n_splits=k, random_state=None)\n",
    "model = LogisticRegression(solver= 'liblinear')\n",
    " \n",
    "acc_score = []\n",
    " \n",
    "for train_index , test_index in kf.split(X):\n",
    "\n",
    "     \n",
    "    model.fit(Xtrain,ytrain)\n",
    "    pred_values = model.predict(Xtest)\n",
    "     \n",
    "    acc = accuracy_score(pred_values , ytest)\n",
    "    acc_score.append(acc)\n",
    "     \n",
    "avg_acc_score = sum(acc_score)/k\n",
    " \n",
    "print('accuracy of each fold - {}'.format(acc_score))\n",
    "print('Avg accuracy : {}'.format(avg_acc_score))"
   ]
  },
  {
   "cell_type": "markdown",
   "id": "578c8018",
   "metadata": {},
   "source": [
    "# shows how accurate the decision tree is with training and test data "
   ]
  },
  {
   "cell_type": "code",
   "execution_count": 80,
   "id": "764aa4c1",
   "metadata": {},
   "outputs": [
    {
     "name": "stdout",
     "output_type": "stream",
     "text": [
      "Accuracy: 0.08163265306122448\n"
     ]
    }
   ],
   "source": [
    "# Create Decision Tree classifer object\n",
    "clf = DecisionTreeClassifier(criterion=\"entropy\", max_depth=3)\n",
    "\n",
    "# Train Decision Tree Classifer\n",
    "clf = clf.fit(Xtrain,ytrain)\n",
    "\n",
    "#Predict the response for test dataset\n",
    "y_pred = clf.predict(Xtest)\n",
    "\n",
    "# Model Accuracy, how often is the classifier correct?\n",
    "print(\"Accuracy:\",metrics.accuracy_score(ytest, y_pred))"
   ]
  },
  {
   "cell_type": "markdown",
   "id": "a3d4d8ba",
   "metadata": {},
   "source": [
    "# changing the parameters of the decision tree "
   ]
  },
  {
   "cell_type": "code",
   "execution_count": 81,
   "id": "f9cfa63c",
   "metadata": {},
   "outputs": [
    {
     "data": {
      "text/plain": [
       "DecisionTreeClassifier(max_depth=4, random_state=42)"
      ]
     },
     "execution_count": 81,
     "metadata": {},
     "output_type": "execute_result"
    }
   ],
   "source": [
    "from sklearn.tree import DecisionTreeClassifier,plot_tree\n",
    "\n",
    "tree_clf2 = DecisionTreeClassifier(max_depth=4, random_state=42)\n",
    "tree_clf2.fit(X, y)"
   ]
  },
  {
   "cell_type": "code",
   "execution_count": 82,
   "id": "86f17365",
   "metadata": {},
   "outputs": [
    {
     "data": {
      "image/png": "[encoded data removed]",
      "text/plain": [
       "<Figure size 432x288 with 1 Axes>"
      ]
     },
     "metadata": {
      "needs_background": "light"
     },
     "output_type": "display_data"
    }
   ],
   "source": [
    "plot_tree(tree_clf);"
   ]
  },
  {
   "cell_type": "code",
   "execution_count": 83,
   "id": "96bc7fb2",
   "metadata": {},
   "outputs": [
    {
     "name": "stdout",
     "output_type": "stream",
     "text": [
      "Accuracy: 0.09183673469387756\n"
     ]
    }
   ],
   "source": [
    "# Create Decision Tree classifer object\n",
    "clf = DecisionTreeClassifier(criterion=\"entropy\", max_depth=4)\n",
    "\n",
    "# Train Decision Tree Classifer\n",
    "clf = clf.fit(Xtrain,ytrain)\n",
    "\n",
    "#Predict the response for test dataset\n",
    "y_pred = clf.predict(Xtest)\n",
    "\n",
    "# Model Accuracy, how often is the classifier correct?\n",
    "print(\"Accuracy:\",metrics.accuracy_score(ytest, y_pred))"
   ]
  },
  {
   "cell_type": "markdown",
   "id": "24b28e2c",
   "metadata": {},
   "source": [
    "# accuracy of the decision tree improves if the depth is increased "
   ]
  },
  {
   "cell_type": "code",
   "execution_count": 84,
   "id": "69c0b81a",
   "metadata": {},
   "outputs": [],
   "source": [
    "Xtrain2,Xtest2,ytrain2,ytest2=train_test_split(Xtrain,ytrain,test_size=0.3)"
   ]
  },
  {
   "cell_type": "code",
   "execution_count": 85,
   "id": "47421132",
   "metadata": {},
   "outputs": [
    {
     "name": "stdout",
     "output_type": "stream",
     "text": [
      "Accuracy: 0.10112359550561797\n"
     ]
    }
   ],
   "source": [
    "# Create Decision Tree classifer object\n",
    "clf = DecisionTreeClassifier(criterion=\"entropy\", max_depth=3)\n",
    "\n",
    "# Train Decision Tree Classifer\n",
    "clf = clf.fit(Xtrain2,ytrain2)\n",
    "\n",
    "#Predict the response for test dataset\n",
    "y_pred = clf.predict(Xtest2)\n",
    "\n",
    "# Model Accuracy, how often is the classifier correct?\n",
    "print(\"Accuracy:\",metrics.accuracy_score(ytest2, y_pred))"
   ]
  },
  {
   "cell_type": "markdown",
   "id": "64c3ed6a",
   "metadata": {},
   "source": [
    "# accuracy improved when 30% is moved "
   ]
  },
  {
   "cell_type": "code",
   "execution_count": 86,
   "id": "40271060",
   "metadata": {},
   "outputs": [],
   "source": [
    "Xtrain3,Xtest3,ytrain3,ytest3=train_test_split(Xtrain,ytrain,test_size=0.6)"
   ]
  },
  {
   "cell_type": "code",
   "execution_count": 87,
   "id": "94722aa1",
   "metadata": {},
   "outputs": [
    {
     "name": "stdout",
     "output_type": "stream",
     "text": [
      "Accuracy: 0.0847457627118644\n"
     ]
    }
   ],
   "source": [
    "# Create Decision Tree classifer object\n",
    "clf = DecisionTreeClassifier(criterion=\"entropy\", max_depth=3)\n",
    "\n",
    "# Train Decision Tree Classifer\n",
    "clf = clf.fit(Xtrain3,ytrain3)\n",
    "\n",
    "#Predict the response for test dataset\n",
    "y_pred = clf.predict(Xtest3)\n",
    "\n",
    "# Model Accuracy, how often is the classifier correct?\n",
    "print(\"Accuracy:\",metrics.accuracy_score(ytest3, y_pred))"
   ]
  },
  {
   "cell_type": "markdown",
   "id": "e79c28ba",
   "metadata": {},
   "source": [
    "# accuracy decreased but still better than the original model when 60% is moved"
   ]
  },
  {
   "cell_type": "markdown",
   "id": "aebb4f1d",
   "metadata": {},
   "source": [
    "# This could show that overfitting has not occured as the score of the original model had a lower accuracy score then the models with the test sets "
   ]
  },
  {
   "cell_type": "markdown",
   "id": "39ca052a",
   "metadata": {},
   "source": [
    "# Random Forest Classifier  "
   ]
  },
  {
   "cell_type": "code",
   "execution_count": 88,
   "id": "42a1470a",
   "metadata": {},
   "outputs": [
    {
     "data": {
      "text/plain": [
       "RandomForestClassifier(max_depth=2, random_state=0)"
      ]
     },
     "execution_count": 88,
     "metadata": {},
     "output_type": "execute_result"
    }
   ],
   "source": [
    "from sklearn.ensemble import RandomForestClassifier\n",
    "from sklearn.datasets import make_classification\n",
    "from sklearn.datasets import make_classification\n",
    "\n",
    "clf = RandomForestClassifier(max_depth=2, random_state=0)\n",
    "clf.fit(X, y)"
   ]
  },
  {
   "cell_type": "markdown",
   "id": "d942d029",
   "metadata": {},
   "source": [
    "# mean accuracy score for the classifier"
   ]
  },
  {
   "cell_type": "code",
   "execution_count": 89,
   "id": "760c9a22",
   "metadata": {},
   "outputs": [
    {
     "data": {
      "text/plain": [
       "0.20918367346938777"
      ]
     },
     "execution_count": 89,
     "metadata": {},
     "output_type": "execute_result"
    }
   ],
   "source": [
    "clf.score(X, y, sample_weight=None)"
   ]
  },
  {
   "cell_type": "markdown",
   "id": "3eff520d",
   "metadata": {},
   "source": [
    "# accuracy of the random forest classifier is significantly higher than the "
   ]
  },
  {
   "cell_type": "code",
   "execution_count": 90,
   "id": "6ae10e8d",
   "metadata": {},
   "outputs": [],
   "source": [
    "from sklearn.linear_model import LogisticRegression"
   ]
  },
  {
   "cell_type": "markdown",
   "id": "930a61c9",
   "metadata": {},
   "source": [
    "# apply the linear classifier "
   ]
  },
  {
   "cell_type": "code",
   "execution_count": 94,
   "id": "0a699aa1",
   "metadata": {},
   "outputs": [
    {
     "data": {
      "text/plain": [
       "LogisticRegression()"
      ]
     },
     "execution_count": 94,
     "metadata": {},
     "output_type": "execute_result"
    }
   ],
   "source": [
    "# Apply logistic regression and print scores\n",
    "lr = LogisticRegression()\n",
    "lr.fit(Xtrain, ytrain)"
   ]
  },
  {
   "cell_type": "markdown",
   "id": "e9817562",
   "metadata": {},
   "source": [
    "# show the mean accuracy on test data without 10 fold "
   ]
  },
  {
   "cell_type": "code",
   "execution_count": 97,
   "id": "c8e65ea3",
   "metadata": {},
   "outputs": [
    {
     "name": "stdout",
     "output_type": "stream",
     "text": [
      "0.1360544217687075\n"
     ]
    }
   ],
   "source": [
    "print(lr.score(Xtrain, ytrain))"
   ]
  },
  {
   "cell_type": "markdown",
   "id": "966abedd",
   "metadata": {},
   "source": [
    "# mean accuracy with 10 fold"
   ]
  },
  {
   "cell_type": "code",
   "execution_count": 98,
   "id": "5bed6ed9",
   "metadata": {},
   "outputs": [
    {
     "name": "stdout",
     "output_type": "stream",
     "text": [
      "accuracy of each fold - [0.061224489795918366, 0.061224489795918366, 0.061224489795918366, 0.061224489795918366, 0.061224489795918366, 0.061224489795918366, 0.061224489795918366, 0.061224489795918366, 0.061224489795918366, 0.061224489795918366]\n",
      "Avg accuracy : 0.061224489795918366\n"
     ]
    }
   ],
   "source": [
    "k = 10\n",
    "kf = KFold(n_splits=k, random_state=None)\n",
    "model = LogisticRegression(solver= 'liblinear')\n",
    " \n",
    "acc_score = []\n",
    " \n",
    "for train_index , test_index in kf.split(X):\n",
    "\n",
    "     \n",
    "    model.fit(Xtrain,ytrain)\n",
    "    pred_values = model.predict(Xtest)\n",
    "     \n",
    "    acc = accuracy_score(pred_values , ytest)\n",
    "    acc_score.append(acc)\n",
    "     \n",
    "avg_acc_score = sum(acc_score)/k\n",
    " \n",
    "print('accuracy of each fold - {}'.format(acc_score))\n",
    "print('Avg accuracy : {}'.format(avg_acc_score))"
   ]
  },
  {
   "cell_type": "markdown",
   "id": "1340c5c3",
   "metadata": {},
   "source": [
    "# shows that it genralizes better without the 10 fold as the average accurancy for the data is higher "
   ]
  },
  {
   "cell_type": "markdown",
   "id": "2b2cb224",
   "metadata": {},
   "source": [
    "# MLP "
   ]
  },
  {
   "cell_type": "code",
   "execution_count": 106,
   "id": "40a6124a",
   "metadata": {},
   "outputs": [
    {
     "name": "stdout",
     "output_type": "stream",
     "text": [
      "Iteration 1, loss = 35.67586803\n",
      "Iteration 2, loss = 34.20777246\n",
      "Iteration 3, loss = 32.78863583\n",
      "Iteration 4, loss = 33.38618866\n",
      "Iteration 5, loss = 33.45725172\n",
      "Iteration 6, loss = 32.84505761\n",
      "Iteration 7, loss = 29.89972700\n",
      "Iteration 8, loss = 31.10516592\n",
      "Iteration 9, loss = 30.08834469\n",
      "Iteration 10, loss = 30.38097184\n",
      "Iteration 11, loss = 29.42176764\n",
      "Iteration 12, loss = 29.48535993\n",
      "Iteration 13, loss = 25.97281830\n",
      "Iteration 14, loss = 25.32023707\n",
      "Iteration 15, loss = 24.22654600\n",
      "Iteration 16, loss = 21.85552715\n",
      "Iteration 17, loss = 18.18307139\n",
      "Iteration 18, loss = 16.20644916\n",
      "Iteration 19, loss = 16.18500203\n",
      "Iteration 20, loss = 14.53266208\n",
      "Iteration 21, loss = 13.02503261\n",
      "Iteration 22, loss = 11.77006698\n",
      "Iteration 23, loss = 10.45089603\n",
      "Iteration 24, loss = 8.60776501\n",
      "Iteration 25, loss = 8.11827864\n",
      "Iteration 26, loss = 8.09405651\n",
      "Iteration 27, loss = 6.98531221\n",
      "Iteration 28, loss = 6.29677941\n",
      "Iteration 29, loss = 5.97015028\n",
      "Iteration 30, loss = 5.62149547\n",
      "Iteration 31, loss = 5.57019766\n",
      "Iteration 32, loss = 5.31471412\n",
      "Iteration 33, loss = 4.88220600\n",
      "Iteration 34, loss = 4.58774058\n",
      "Iteration 35, loss = 4.39605234\n",
      "Iteration 36, loss = 4.47503377\n",
      "Iteration 37, loss = 4.25348540\n",
      "Iteration 38, loss = 4.13009449\n",
      "Iteration 39, loss = 3.93917519\n",
      "Iteration 40, loss = 3.92025146\n",
      "Iteration 41, loss = 3.84342464\n",
      "Iteration 42, loss = 3.75610376\n",
      "Iteration 43, loss = 3.76738725\n",
      "Iteration 44, loss = 3.73775483\n",
      "Iteration 45, loss = 3.69442611\n",
      "Iteration 46, loss = 3.66001449\n",
      "Iteration 47, loss = 3.60173204\n",
      "Iteration 48, loss = 3.58167851\n",
      "Iteration 49, loss = 3.56530666\n",
      "Iteration 50, loss = 3.53821117\n",
      "Iteration 51, loss = 3.52119375\n",
      "Iteration 52, loss = 3.50255267\n",
      "Iteration 53, loss = 3.48702348\n",
      "Iteration 54, loss = 3.47452032\n",
      "Iteration 55, loss = 3.46670551\n",
      "Iteration 56, loss = 3.46105935\n",
      "Iteration 57, loss = 3.44622992\n",
      "Iteration 58, loss = 3.43089119\n",
      "Iteration 59, loss = 3.42206744\n",
      "Iteration 60, loss = 3.41178514\n",
      "Iteration 61, loss = 3.40603447\n",
      "Iteration 62, loss = 3.39532002\n",
      "Iteration 63, loss = 3.39008231\n",
      "Iteration 64, loss = 3.38486987\n",
      "Iteration 65, loss = 3.38836851\n",
      "Iteration 66, loss = 3.38481651\n",
      "Iteration 67, loss = 3.37516511\n",
      "Iteration 68, loss = 3.37139587\n",
      "Iteration 69, loss = 3.37421269\n",
      "Iteration 70, loss = 3.36666819\n",
      "Iteration 71, loss = 3.36584224\n",
      "Iteration 72, loss = 3.36830169\n",
      "Iteration 73, loss = 3.36200579\n",
      "Iteration 74, loss = 3.36138775\n",
      "Iteration 75, loss = 3.35343082\n",
      "Iteration 76, loss = 3.35372393\n",
      "Iteration 77, loss = 3.35436255\n",
      "Iteration 78, loss = 3.34795695\n",
      "Iteration 79, loss = 3.35770347\n",
      "Iteration 80, loss = 3.34616465\n",
      "Iteration 81, loss = 3.35149644\n",
      "Iteration 82, loss = 3.35138030\n",
      "Iteration 83, loss = 3.34319731\n",
      "Iteration 84, loss = 3.34410722\n",
      "Iteration 85, loss = 3.34057427\n",
      "Iteration 86, loss = 3.34325774\n",
      "Iteration 87, loss = 3.34197753\n",
      "Iteration 88, loss = 3.33208467\n",
      "Iteration 89, loss = 3.33467527\n",
      "Iteration 90, loss = 3.33907373\n",
      "Iteration 91, loss = 3.33041651\n",
      "Iteration 92, loss = 3.33570833\n",
      "Iteration 93, loss = 3.33293835\n",
      "Iteration 94, loss = 3.33093562\n",
      "Iteration 95, loss = 3.33536902\n",
      "Iteration 96, loss = 3.32771177\n",
      "Iteration 97, loss = 3.32911500\n",
      "Iteration 98, loss = 3.32410307\n",
      "Iteration 99, loss = 3.32690541\n",
      "Iteration 100, loss = 3.33390063\n",
      "Iteration 101, loss = 3.32646067\n",
      "Iteration 102, loss = 3.32464700\n",
      "Iteration 103, loss = 3.32312171\n",
      "Iteration 104, loss = 3.31958928\n",
      "Iteration 105, loss = 3.31858403\n",
      "Iteration 106, loss = 3.32023995\n",
      "Iteration 107, loss = 3.32078029\n",
      "Iteration 108, loss = 3.31794691\n",
      "Iteration 109, loss = 3.31909796\n",
      "Iteration 110, loss = 3.32043449\n",
      "Iteration 111, loss = 3.32409131\n",
      "Iteration 112, loss = 3.31172477\n",
      "Iteration 113, loss = 3.31337208\n",
      "Iteration 114, loss = 3.30946613\n",
      "Iteration 115, loss = 3.31570141\n",
      "Iteration 116, loss = 3.30823067\n",
      "Iteration 117, loss = 3.31053789\n",
      "Iteration 118, loss = 3.31665259\n",
      "Iteration 119, loss = 3.31336208\n",
      "Iteration 120, loss = 3.31096165\n",
      "Iteration 121, loss = 3.31168496\n",
      "Iteration 122, loss = 3.30178072\n",
      "Iteration 123, loss = 3.31263126\n",
      "Iteration 124, loss = 3.31602614\n",
      "Iteration 125, loss = 3.30202484\n",
      "Iteration 126, loss = 3.31658352\n",
      "Iteration 127, loss = 3.30699490\n",
      "Iteration 128, loss = 3.30392199\n",
      "Iteration 129, loss = 3.30644057\n",
      "Iteration 130, loss = 3.29677429\n",
      "Iteration 131, loss = 3.30847615\n",
      "Iteration 132, loss = 3.30598524\n",
      "Iteration 133, loss = 3.29654068\n",
      "Iteration 134, loss = 3.30438567\n",
      "Iteration 135, loss = 3.29172401\n",
      "Iteration 136, loss = 3.30092983\n",
      "Iteration 137, loss = 3.30419811\n",
      "Iteration 138, loss = 3.29539761\n",
      "Iteration 139, loss = 3.30307949\n",
      "Iteration 140, loss = 3.29529742\n",
      "Iteration 141, loss = 3.29784119\n",
      "Iteration 142, loss = 3.30204187\n",
      "Iteration 143, loss = 3.29760187\n",
      "Iteration 144, loss = 3.30397422\n",
      "Iteration 145, loss = 3.30566615\n",
      "Iteration 146, loss = 3.29159465\n",
      "Iteration 147, loss = 3.29061092\n",
      "Iteration 148, loss = 3.29155952\n",
      "Iteration 149, loss = 3.29331618\n",
      "Iteration 150, loss = 3.29028411\n",
      "Iteration 151, loss = 3.28448567\n",
      "Iteration 152, loss = 3.29256590\n",
      "Iteration 153, loss = 3.29099017\n",
      "Iteration 154, loss = 3.28688366\n",
      "Iteration 155, loss = 3.28775956\n",
      "Iteration 156, loss = 3.28685822\n",
      "Iteration 157, loss = 3.28680665\n",
      "Iteration 158, loss = 3.28520503\n",
      "Iteration 159, loss = 3.28027037\n",
      "Iteration 160, loss = 3.27838156\n",
      "Iteration 161, loss = 3.27778489\n",
      "Iteration 162, loss = 3.27702632\n",
      "Iteration 163, loss = 3.27824518\n",
      "Iteration 164, loss = 3.27804789\n",
      "Iteration 165, loss = 3.28520251\n",
      "Iteration 166, loss = 3.28413646\n",
      "Iteration 167, loss = 3.27235084\n",
      "Iteration 168, loss = 3.27315313\n",
      "Iteration 169, loss = 3.27096978\n",
      "Iteration 170, loss = 3.26919085\n",
      "Iteration 171, loss = 3.27070760\n",
      "Iteration 172, loss = 3.26939916\n",
      "Iteration 173, loss = 3.26907717\n",
      "Iteration 174, loss = 3.27453682\n",
      "Iteration 175, loss = 3.27042813\n",
      "Iteration 176, loss = 3.28150671\n",
      "Iteration 177, loss = 3.26296338\n",
      "Iteration 178, loss = 3.28040465\n",
      "Iteration 179, loss = 3.27481261\n",
      "Iteration 180, loss = 3.26851226\n",
      "Iteration 181, loss = 3.26884383\n",
      "Iteration 182, loss = 3.28194236\n",
      "Iteration 183, loss = 3.26407191\n",
      "Iteration 184, loss = 3.26892556\n",
      "Iteration 185, loss = 3.26143149\n",
      "Iteration 186, loss = 3.27404460\n",
      "Iteration 187, loss = 3.26445309\n",
      "Iteration 188, loss = 3.27123705\n",
      "Iteration 189, loss = 3.26633977\n",
      "Iteration 190, loss = 3.26852819\n",
      "Iteration 191, loss = 3.26217892\n",
      "Iteration 192, loss = 3.26341607\n",
      "Iteration 193, loss = 3.26526472\n",
      "Iteration 194, loss = 3.27419750\n",
      "Iteration 195, loss = 3.25561439\n",
      "Iteration 196, loss = 3.24973043\n",
      "Iteration 197, loss = 3.25117448\n",
      "Iteration 198, loss = 3.25348838\n",
      "Iteration 199, loss = 3.24779809\n",
      "Iteration 200, loss = 3.25334250\n"
     ]
    },
    {
     "data": {
      "text/plain": [
       "MLPClassifier(hidden_layer_sizes=(6, 5), learning_rate_init=0.01,\n",
       "              random_state=5, verbose=True)"
      ]
     },
     "execution_count": 106,
     "metadata": {},
     "output_type": "execute_result"
    }
   ],
   "source": [
    "# Import MLPClassifer \n",
    "from sklearn.neural_network import MLPClassifier\n",
    "\n",
    "# Create model object\n",
    "clf = MLPClassifier(hidden_layer_sizes=(6,5),\n",
    "                    random_state=5,\n",
    "                    verbose=True,\n",
    "                    learning_rate_init=0.01)\n",
    "\n",
    "# Fit data onto the model\n",
    "clf.fit(Xtrain,ytrain)"
   ]
  },
  {
   "cell_type": "code",
   "execution_count": 109,
   "id": "20c20600",
   "metadata": {},
   "outputs": [
    {
     "data": {
      "text/plain": [
       "0.01020408163265306"
      ]
     },
     "execution_count": 109,
     "metadata": {},
     "output_type": "execute_result"
    }
   ],
   "source": [
    "# Make prediction on test dataset\n",
    "ypred=clf.predict(Xtest)\n",
    "\n",
    "# Import accuracy score \n",
    "from sklearn.metrics import accuracy_score\n",
    "\n",
    "# Calcuate accuracy\n",
    "accuracy_score(ytest,ypred)"
   ]
  },
  {
   "cell_type": "code",
   "execution_count": 111,
   "id": "1f16f6b1",
   "metadata": {},
   "outputs": [
    {
     "name": "stdout",
     "output_type": "stream",
     "text": [
      "Iteration 1, loss = 35.79846408\n",
      "Iteration 2, loss = 35.76355869\n",
      "Iteration 3, loss = 32.73027196\n",
      "Iteration 4, loss = 22.40677923\n",
      "Iteration 5, loss = 11.37370327\n",
      "Iteration 6, loss = 3.55528686\n",
      "Iteration 7, loss = 3.55044920\n",
      "Iteration 8, loss = 3.54503119\n",
      "Iteration 9, loss = 3.56196509\n",
      "Iteration 10, loss = 3.59791371\n",
      "Iteration 11, loss = 3.52928791\n",
      "Iteration 12, loss = 3.51788195\n",
      "Iteration 13, loss = 3.51130357\n",
      "Iteration 14, loss = 3.50494269\n",
      "Iteration 15, loss = 3.49865342\n",
      "Iteration 16, loss = 3.49178475\n",
      "Iteration 17, loss = 3.48558617\n",
      "Iteration 18, loss = 3.47940357\n",
      "Iteration 19, loss = 3.47369569\n",
      "Iteration 20, loss = 3.46802092\n",
      "Iteration 21, loss = 3.46214047\n",
      "Iteration 22, loss = 3.45670026\n",
      "Iteration 23, loss = 3.45173230\n",
      "Iteration 24, loss = 3.44663453\n",
      "Iteration 25, loss = 3.44174084\n",
      "Iteration 26, loss = 3.43669265\n",
      "Iteration 27, loss = 3.43257001\n",
      "Iteration 28, loss = 3.42802127\n",
      "Iteration 29, loss = 3.42376887\n",
      "Iteration 30, loss = 3.41984483\n",
      "Iteration 31, loss = 3.41591291\n",
      "Iteration 32, loss = 3.41193145\n",
      "Iteration 33, loss = 3.40850892\n",
      "Iteration 34, loss = 3.40503760\n",
      "Iteration 35, loss = 3.40157595\n",
      "Iteration 36, loss = 3.39853727\n",
      "Iteration 37, loss = 3.39517933\n",
      "Iteration 38, loss = 3.39231584\n",
      "Iteration 39, loss = 3.38960834\n",
      "Iteration 40, loss = 3.38684873\n",
      "Iteration 41, loss = 3.38423445\n",
      "Iteration 42, loss = 3.38162935\n",
      "Iteration 43, loss = 3.37923421\n",
      "Iteration 44, loss = 3.37681707\n",
      "Iteration 45, loss = 3.37479526\n",
      "Iteration 46, loss = 3.37274452\n",
      "Iteration 47, loss = 3.37061590\n",
      "Iteration 48, loss = 3.36855914\n",
      "Iteration 49, loss = 3.36671890\n",
      "Iteration 50, loss = 3.36484413\n",
      "Iteration 51, loss = 3.36326144\n",
      "Iteration 52, loss = 3.36161435\n",
      "Iteration 53, loss = 3.35998811\n",
      "Iteration 54, loss = 3.35844283\n",
      "Iteration 55, loss = 3.35710843\n",
      "Iteration 56, loss = 3.35561123\n",
      "Iteration 57, loss = 3.35444175\n",
      "Iteration 58, loss = 3.35314632\n",
      "Iteration 59, loss = 3.35193312\n",
      "Iteration 60, loss = 3.35080224\n",
      "Iteration 61, loss = 3.34974065\n",
      "Iteration 62, loss = 3.34865854\n",
      "Iteration 63, loss = 3.34757008\n",
      "Iteration 64, loss = 3.34673810\n",
      "Iteration 65, loss = 3.34572040\n",
      "Iteration 66, loss = 3.34480700\n",
      "Iteration 67, loss = 3.34397136\n",
      "Iteration 68, loss = 3.34313017\n",
      "Iteration 69, loss = 3.34230361\n",
      "Iteration 70, loss = 3.34154034\n",
      "Iteration 71, loss = 3.34077015\n",
      "Iteration 72, loss = 3.34004694\n",
      "Iteration 73, loss = 3.33931118\n",
      "Iteration 74, loss = 3.33864174\n",
      "Iteration 75, loss = 3.33799890\n",
      "Iteration 76, loss = 3.33745615\n",
      "Iteration 77, loss = 3.33671983\n",
      "Iteration 78, loss = 3.33616420\n",
      "Iteration 79, loss = 3.33561806\n",
      "Iteration 80, loss = 3.33518629\n",
      "Iteration 81, loss = 3.33461245\n",
      "Iteration 82, loss = 3.33414373\n",
      "Iteration 83, loss = 3.33368514\n",
      "Iteration 84, loss = 3.33333401\n",
      "Iteration 85, loss = 3.33290538\n",
      "Iteration 86, loss = 3.33248752\n",
      "Iteration 87, loss = 3.33215926\n",
      "Iteration 88, loss = 3.33175608\n",
      "Iteration 89, loss = 3.33152526\n",
      "Iteration 90, loss = 3.33106456\n",
      "Iteration 91, loss = 3.33076995\n",
      "Iteration 92, loss = 3.33043619\n",
      "Iteration 93, loss = 3.33010817\n",
      "Iteration 94, loss = 3.32974674\n",
      "Iteration 95, loss = 3.32944274\n",
      "Iteration 96, loss = 3.32920721\n",
      "Iteration 97, loss = 3.32888691\n",
      "Iteration 98, loss = 3.32862686\n",
      "Iteration 99, loss = 3.32839676\n",
      "Iteration 100, loss = 3.32808297\n",
      "Iteration 101, loss = 3.32789245\n",
      "Iteration 102, loss = 3.32768682\n",
      "Iteration 103, loss = 3.32743447\n",
      "Iteration 104, loss = 3.32726033\n",
      "Iteration 105, loss = 3.32701280\n",
      "Iteration 106, loss = 3.32686556\n",
      "Iteration 107, loss = 3.32664296\n",
      "Iteration 108, loss = 3.32640777\n",
      "Iteration 109, loss = 3.32621167\n",
      "Iteration 110, loss = 3.32608592\n",
      "Iteration 111, loss = 3.32593731\n",
      "Iteration 112, loss = 3.32572617\n",
      "Iteration 113, loss = 3.32555737\n",
      "Iteration 114, loss = 3.32540601\n",
      "Iteration 115, loss = 3.32522309\n",
      "Iteration 116, loss = 3.32513426\n",
      "Iteration 117, loss = 3.32490253\n",
      "Iteration 118, loss = 3.32478407\n",
      "Iteration 119, loss = 3.32467063\n",
      "Iteration 120, loss = 3.32451695\n",
      "Iteration 121, loss = 3.32432611\n",
      "Iteration 122, loss = 3.32427527\n",
      "Iteration 123, loss = 3.32421898\n",
      "Iteration 124, loss = 3.32407089\n",
      "Iteration 125, loss = 3.32388494\n",
      "Iteration 126, loss = 3.32375751\n",
      "Iteration 127, loss = 3.32370709\n",
      "Iteration 128, loss = 3.32355269\n",
      "Iteration 129, loss = 3.32343057\n",
      "Iteration 130, loss = 3.32334550\n",
      "Iteration 131, loss = 3.32319475\n",
      "Iteration 132, loss = 3.32312475\n",
      "Iteration 133, loss = 3.32300501\n",
      "Iteration 134, loss = 3.32293499\n",
      "Iteration 135, loss = 3.32282182\n",
      "Iteration 136, loss = 3.32276572\n",
      "Iteration 137, loss = 3.32265902\n",
      "Iteration 138, loss = 3.32256203\n",
      "Iteration 139, loss = 3.32248871\n",
      "Iteration 140, loss = 3.32244159\n",
      "Iteration 141, loss = 3.32233580\n",
      "Iteration 142, loss = 3.32228794\n",
      "Iteration 143, loss = 3.32225618\n",
      "Iteration 144, loss = 3.32218201\n",
      "Iteration 145, loss = 3.32206394\n",
      "Iteration 146, loss = 3.32210292\n",
      "Iteration 147, loss = 3.32202614\n",
      "Iteration 148, loss = 3.32194720\n",
      "Iteration 149, loss = 3.32185319\n",
      "Iteration 150, loss = 3.32189843\n",
      "Iteration 151, loss = 3.32175170\n",
      "Iteration 152, loss = 3.32169113\n",
      "Iteration 153, loss = 3.32164920\n",
      "Iteration 154, loss = 3.32156797\n",
      "Iteration 155, loss = 3.32149740\n",
      "Iteration 156, loss = 3.32145114\n",
      "Iteration 157, loss = 3.32138012\n",
      "Iteration 158, loss = 3.32131004\n",
      "Iteration 159, loss = 3.32124531\n",
      "Iteration 160, loss = 3.32115711\n",
      "Iteration 161, loss = 3.32122337\n",
      "Iteration 162, loss = 3.32108660\n",
      "Training loss did not improve more than tol=0.000100 for 10 consecutive epochs. Stopping.\n"
     ]
    },
    {
     "data": {
      "text/plain": [
       "MLPClassifier(hidden_layer_sizes=(3, 5), learning_rate_init=0.01,\n",
       "              random_state=5, verbose=True)"
      ]
     },
     "execution_count": 111,
     "metadata": {},
     "output_type": "execute_result"
    }
   ],
   "source": [
    "# Create model object\n",
    "clf = MLPClassifier(hidden_layer_sizes=(3,5),\n",
    "                    random_state=5,\n",
    "                    verbose=True,\n",
    "                    learning_rate_init=0.01)\n",
    "\n",
    "# Fit data onto the model\n",
    "clf.fit(Xtrain,ytrain)"
   ]
  },
  {
   "cell_type": "code",
   "execution_count": 112,
   "id": "e2e7f8b2",
   "metadata": {},
   "outputs": [
    {
     "data": {
      "text/plain": [
       "0.05102040816326531"
      ]
     },
     "execution_count": 112,
     "metadata": {},
     "output_type": "execute_result"
    }
   ],
   "source": [
    "# Make prediction on test dataset\n",
    "ypred=clf.predict(Xtest)\n",
    "\n",
    "# Import accuracy score \n",
    "from sklearn.metrics import accuracy_score\n",
    "\n",
    "# Calcuate accuracy\n",
    "accuracy_score(ytest,ypred)"
   ]
  },
  {
   "cell_type": "markdown",
   "id": "a18814b3",
   "metadata": {},
   "source": [
    "# score increased when changing layers to 3"
   ]
  },
  {
   "cell_type": "code",
   "execution_count": 114,
   "id": "1ccefa25",
   "metadata": {},
   "outputs": [
    {
     "name": "stdout",
     "output_type": "stream",
     "text": [
      "Iteration 1, loss = 25.66169097\n",
      "Iteration 2, loss = 25.13318855\n",
      "Iteration 3, loss = 3.48075439\n",
      "Iteration 4, loss = 3.44071294\n",
      "Iteration 5, loss = 4.00554608\n",
      "Iteration 6, loss = 3.37744634\n",
      "Iteration 7, loss = 3.35960159\n",
      "Iteration 8, loss = 3.34831527\n",
      "Iteration 9, loss = 3.34035903\n",
      "Iteration 10, loss = 3.33896351\n",
      "Iteration 11, loss = 3.33888844\n",
      "Iteration 12, loss = 3.33661671\n",
      "Iteration 13, loss = 3.33739587\n",
      "Iteration 14, loss = 3.33884570\n",
      "Iteration 15, loss = 3.33782741\n",
      "Iteration 16, loss = 3.33685157\n",
      "Iteration 17, loss = 3.33566062\n",
      "Iteration 18, loss = 3.33412545\n",
      "Iteration 19, loss = 3.33161661\n",
      "Iteration 20, loss = 3.32958977\n",
      "Iteration 21, loss = 3.32863668\n",
      "Iteration 22, loss = 3.32840557\n",
      "Iteration 23, loss = 3.32670540\n",
      "Iteration 24, loss = 3.32593554\n",
      "Iteration 25, loss = 3.32581421\n",
      "Iteration 26, loss = 3.32557207\n",
      "Iteration 27, loss = 3.32488340\n",
      "Iteration 28, loss = 3.32412158\n",
      "Iteration 29, loss = 3.32434176\n",
      "Iteration 30, loss = 3.32335111\n",
      "Iteration 31, loss = 3.32289879\n",
      "Iteration 32, loss = 3.32195511\n",
      "Iteration 33, loss = 3.32194778\n",
      "Iteration 34, loss = 3.32152920\n",
      "Iteration 35, loss = 3.32163523\n",
      "Iteration 36, loss = 3.32161709\n",
      "Iteration 37, loss = 3.32099272\n",
      "Iteration 38, loss = 3.32113985\n",
      "Iteration 39, loss = 3.32076409\n",
      "Iteration 40, loss = 3.31958898\n",
      "Iteration 41, loss = 3.32071935\n",
      "Iteration 42, loss = 3.31986228\n",
      "Iteration 43, loss = 3.31960324\n",
      "Iteration 44, loss = 3.31944812\n",
      "Iteration 45, loss = 3.31944693\n",
      "Iteration 46, loss = 3.31973323\n",
      "Iteration 47, loss = 3.31869872\n",
      "Iteration 48, loss = 3.31841861\n",
      "Iteration 49, loss = 3.31903266\n",
      "Iteration 50, loss = 3.31803365\n",
      "Iteration 51, loss = 3.31833134\n",
      "Iteration 52, loss = 3.31862425\n",
      "Iteration 53, loss = 3.31849890\n",
      "Iteration 54, loss = 3.31867548\n",
      "Iteration 55, loss = 3.31849342\n",
      "Iteration 56, loss = 3.31815460\n",
      "Iteration 57, loss = 3.31880338\n",
      "Iteration 58, loss = 3.31895930\n",
      "Iteration 59, loss = 3.31888828\n",
      "Iteration 60, loss = 3.31875576\n",
      "Iteration 61, loss = 3.31840918\n",
      "Training loss did not improve more than tol=0.000100 for 10 consecutive epochs. Stopping.\n"
     ]
    },
    {
     "data": {
      "text/plain": [
       "MLPClassifier(hidden_layer_sizes=(3, 5), learning_rate_init=0.1, random_state=5,\n",
       "              verbose=True)"
      ]
     },
     "execution_count": 114,
     "metadata": {},
     "output_type": "execute_result"
    }
   ],
   "source": [
    "# Create model object\n",
    "clf = MLPClassifier(hidden_layer_sizes=(3,5),\n",
    "                    random_state=5,\n",
    "                    verbose=True,\n",
    "                    learning_rate_init=0.1)\n",
    "\n",
    "# Fit data onto the model\n",
    "clf.fit(Xtrain,ytrain)"
   ]
  },
  {
   "cell_type": "code",
   "execution_count": 115,
   "id": "13e8cb57",
   "metadata": {},
   "outputs": [
    {
     "data": {
      "text/plain": [
       "0.05102040816326531"
      ]
     },
     "execution_count": 115,
     "metadata": {},
     "output_type": "execute_result"
    }
   ],
   "source": [
    "# Make prediction on test dataset\n",
    "ypred=clf.predict(Xtest)\n",
    "\n",
    "# Import accuracy score \n",
    "from sklearn.metrics import accuracy_score\n",
    "\n",
    "# Calcuate accuracy\n",
    "accuracy_score(ytest,ypred)"
   ]
  },
  {
   "cell_type": "markdown",
   "id": "deb2cd42",
   "metadata": {},
   "source": [
    "# no change in accuracy when changing learning rate "
   ]
  },
  {
   "cell_type": "code",
   "execution_count": 117,
   "id": "2d18387d",
   "metadata": {},
   "outputs": [
    {
     "data": {
      "text/plain": [
       "MLPClassifier(hidden_layer_sizes=(3, 5), learning_rate_init=0.01,\n",
       "              random_state=5)"
      ]
     },
     "execution_count": 117,
     "metadata": {},
     "output_type": "execute_result"
    }
   ],
   "source": [
    "# Create model object\n",
    "clf = MLPClassifier(hidden_layer_sizes=(3,5),\n",
    "                    random_state=5,\n",
    "                    verbose= False,\n",
    "                    learning_rate_init=0.01)\n",
    "\n",
    "# Fit data onto the model\n",
    "clf.fit(Xtrain,ytrain)"
   ]
  },
  {
   "cell_type": "code",
   "execution_count": 118,
   "id": "9e9f3463",
   "metadata": {},
   "outputs": [
    {
     "data": {
      "text/plain": [
       "0.05102040816326531"
      ]
     },
     "execution_count": 118,
     "metadata": {},
     "output_type": "execute_result"
    }
   ],
   "source": [
    "# Make prediction on test dataset\n",
    "ypred=clf.predict(Xtest)\n",
    "\n",
    "# Import accuracy score \n",
    "from sklearn.metrics import accuracy_score\n",
    "\n",
    "# Calcuate accuracy\n",
    "accuracy_score(ytest,ypred)"
   ]
  },
  {
   "cell_type": "markdown",
   "id": "08f05fbe",
   "metadata": {},
   "source": [
    "# learning rate the same without verbose"
   ]
  },
  {
   "cell_type": "code",
   "execution_count": 119,
   "id": "99ac1d7d",
   "metadata": {},
   "outputs": [
    {
     "name": "stdout",
     "output_type": "stream",
     "text": [
      "Iteration 1, loss = 35.67586803\n",
      "Iteration 2, loss = 34.20777246\n",
      "Iteration 3, loss = 32.78863583\n",
      "Iteration 4, loss = 33.38618866\n",
      "Iteration 5, loss = 33.45725172\n",
      "Iteration 6, loss = 32.84505761\n",
      "Iteration 7, loss = 29.89972700\n",
      "Iteration 8, loss = 31.10516592\n",
      "Iteration 9, loss = 30.08834469\n",
      "Iteration 10, loss = 30.38097184\n",
      "Iteration 11, loss = 29.42176764\n",
      "Iteration 12, loss = 29.48535993\n",
      "Iteration 13, loss = 25.97281830\n",
      "Iteration 14, loss = 25.32023707\n",
      "Iteration 15, loss = 24.22654600\n",
      "Iteration 16, loss = 21.85552715\n",
      "Iteration 17, loss = 18.18307139\n",
      "Iteration 18, loss = 16.20644916\n",
      "Iteration 19, loss = 16.18500203\n",
      "Iteration 20, loss = 14.53266208\n",
      "Iteration 21, loss = 13.02503261\n",
      "Iteration 22, loss = 11.77006698\n",
      "Iteration 23, loss = 10.45089603\n",
      "Iteration 24, loss = 8.60776501\n",
      "Iteration 25, loss = 8.11827864\n",
      "Iteration 26, loss = 8.09405651\n",
      "Iteration 27, loss = 6.98531221\n",
      "Iteration 28, loss = 6.29677941\n",
      "Iteration 29, loss = 5.97015028\n",
      "Iteration 30, loss = 5.62149547\n",
      "Iteration 31, loss = 5.57019766\n",
      "Iteration 32, loss = 5.31471412\n",
      "Iteration 33, loss = 4.88220600\n",
      "Iteration 34, loss = 4.58774058\n",
      "Iteration 35, loss = 4.39605234\n",
      "Iteration 36, loss = 4.47503377\n",
      "Iteration 37, loss = 4.25348540\n",
      "Iteration 38, loss = 4.13009449\n",
      "Iteration 39, loss = 3.93917519\n",
      "Iteration 40, loss = 3.92025146\n",
      "Iteration 41, loss = 3.84342464\n",
      "Iteration 42, loss = 3.75610376\n",
      "Iteration 43, loss = 3.76738725\n",
      "Iteration 44, loss = 3.73775483\n",
      "Iteration 45, loss = 3.69442611\n",
      "Iteration 46, loss = 3.66001449\n",
      "Iteration 47, loss = 3.60173204\n",
      "Iteration 48, loss = 3.58167851\n",
      "Iteration 49, loss = 3.56530666\n",
      "Iteration 50, loss = 3.53821117\n",
      "Iteration 51, loss = 3.52119375\n",
      "Iteration 52, loss = 3.50255267\n",
      "Iteration 53, loss = 3.48702348\n",
      "Iteration 54, loss = 3.47452032\n",
      "Iteration 55, loss = 3.46670551\n",
      "Iteration 56, loss = 3.46105935\n",
      "Iteration 57, loss = 3.44622992\n",
      "Iteration 58, loss = 3.43089119\n",
      "Iteration 59, loss = 3.42206744\n",
      "Iteration 60, loss = 3.41178514\n",
      "Iteration 61, loss = 3.40603447\n",
      "Iteration 62, loss = 3.39532002\n",
      "Iteration 63, loss = 3.39008231\n",
      "Iteration 64, loss = 3.38486987\n",
      "Iteration 65, loss = 3.38836851\n",
      "Iteration 66, loss = 3.38481651\n",
      "Iteration 67, loss = 3.37516511\n",
      "Iteration 68, loss = 3.37139587\n",
      "Iteration 69, loss = 3.37421269\n",
      "Iteration 70, loss = 3.36666819\n",
      "Iteration 71, loss = 3.36584224\n",
      "Iteration 72, loss = 3.36830169\n",
      "Iteration 73, loss = 3.36200579\n",
      "Iteration 74, loss = 3.36138775\n",
      "Iteration 75, loss = 3.35343082\n",
      "Iteration 76, loss = 3.35372393\n",
      "Iteration 77, loss = 3.35436255\n",
      "Iteration 78, loss = 3.34795695\n",
      "Iteration 79, loss = 3.35770347\n",
      "Iteration 80, loss = 3.34616465\n",
      "Iteration 81, loss = 3.35149644\n",
      "Iteration 82, loss = 3.35138030\n",
      "Iteration 83, loss = 3.34319731\n",
      "Iteration 84, loss = 3.34410722\n",
      "Iteration 85, loss = 3.34057427\n",
      "Iteration 86, loss = 3.34325774\n",
      "Iteration 87, loss = 3.34197753\n",
      "Iteration 88, loss = 3.33208467\n",
      "Iteration 89, loss = 3.33467527\n",
      "Iteration 90, loss = 3.33907373\n",
      "Iteration 91, loss = 3.33041651\n",
      "Iteration 92, loss = 3.33570833\n",
      "Iteration 93, loss = 3.33293835\n",
      "Iteration 94, loss = 3.33093562\n",
      "Iteration 95, loss = 3.33536902\n",
      "Iteration 96, loss = 3.32771177\n",
      "Iteration 97, loss = 3.32911500\n",
      "Iteration 98, loss = 3.32410307\n",
      "Iteration 99, loss = 3.32690541\n",
      "Iteration 100, loss = 3.33390063\n",
      "Iteration 101, loss = 3.32646067\n",
      "Iteration 102, loss = 3.32464700\n",
      "Iteration 103, loss = 3.32312171\n",
      "Iteration 104, loss = 3.31958928\n",
      "Iteration 105, loss = 3.31858403\n",
      "Iteration 106, loss = 3.32023995\n",
      "Iteration 107, loss = 3.32078029\n",
      "Iteration 108, loss = 3.31794691\n",
      "Iteration 109, loss = 3.31909796\n",
      "Iteration 110, loss = 3.32043449\n",
      "Iteration 111, loss = 3.32409131\n",
      "Iteration 112, loss = 3.31172477\n",
      "Iteration 113, loss = 3.31337208\n",
      "Iteration 114, loss = 3.30946613\n",
      "Iteration 115, loss = 3.31570141\n",
      "Iteration 116, loss = 3.30823067\n",
      "Iteration 117, loss = 3.31053789\n",
      "Iteration 118, loss = 3.31665259\n",
      "Iteration 119, loss = 3.31336208\n",
      "Iteration 120, loss = 3.31096165\n",
      "Iteration 121, loss = 3.31168496\n",
      "Iteration 122, loss = 3.30178072\n",
      "Iteration 123, loss = 3.31263126\n",
      "Iteration 124, loss = 3.31602614\n",
      "Iteration 125, loss = 3.30202484\n",
      "Iteration 126, loss = 3.31658352\n",
      "Iteration 127, loss = 3.30699490\n",
      "Iteration 128, loss = 3.30392199\n",
      "Iteration 129, loss = 3.30644057\n",
      "Iteration 130, loss = 3.29677429\n",
      "Iteration 131, loss = 3.30847615\n",
      "Iteration 132, loss = 3.30598524\n",
      "Iteration 133, loss = 3.29654068\n",
      "Iteration 134, loss = 3.30438567\n",
      "Iteration 135, loss = 3.29172401\n",
      "Iteration 136, loss = 3.30092983\n",
      "Iteration 137, loss = 3.30419811\n",
      "Iteration 138, loss = 3.29539761\n",
      "Iteration 139, loss = 3.30307949\n",
      "Iteration 140, loss = 3.29529742\n",
      "Iteration 141, loss = 3.29784119\n",
      "Iteration 142, loss = 3.30204187\n",
      "Iteration 143, loss = 3.29760187\n",
      "Iteration 144, loss = 3.30397422\n",
      "Iteration 145, loss = 3.30566615\n",
      "Iteration 146, loss = 3.29159465\n",
      "Iteration 147, loss = 3.29061092\n",
      "Iteration 148, loss = 3.29155952\n",
      "Iteration 149, loss = 3.29331618\n",
      "Iteration 150, loss = 3.29028411\n",
      "Iteration 151, loss = 3.28448567\n",
      "Iteration 152, loss = 3.29256590\n",
      "Iteration 153, loss = 3.29099017\n",
      "Iteration 154, loss = 3.28688366\n",
      "Iteration 155, loss = 3.28775956\n",
      "Iteration 156, loss = 3.28685822\n",
      "Iteration 157, loss = 3.28680665\n",
      "Iteration 158, loss = 3.28520503\n",
      "Iteration 159, loss = 3.28027037\n",
      "Iteration 160, loss = 3.27838156\n",
      "Iteration 161, loss = 3.27778489\n",
      "Iteration 162, loss = 3.27702632\n",
      "Iteration 163, loss = 3.27824518\n",
      "Iteration 164, loss = 3.27804789\n",
      "Iteration 165, loss = 3.28520251\n",
      "Iteration 166, loss = 3.28413646\n",
      "Iteration 167, loss = 3.27235084\n",
      "Iteration 168, loss = 3.27315313\n",
      "Iteration 169, loss = 3.27096978\n",
      "Iteration 170, loss = 3.26919085\n",
      "Iteration 171, loss = 3.27070760\n",
      "Iteration 172, loss = 3.26939916\n",
      "Iteration 173, loss = 3.26907717\n",
      "Iteration 174, loss = 3.27453682\n",
      "Iteration 175, loss = 3.27042813\n",
      "Iteration 176, loss = 3.28150671\n",
      "Iteration 177, loss = 3.26296338\n",
      "Iteration 178, loss = 3.28040465\n",
      "Iteration 179, loss = 3.27481261\n",
      "Iteration 180, loss = 3.26851226\n",
      "Iteration 181, loss = 3.26884383\n",
      "Iteration 182, loss = 3.28194236\n",
      "Iteration 183, loss = 3.26407191\n",
      "Iteration 184, loss = 3.26892556\n",
      "Iteration 185, loss = 3.26143149\n",
      "Iteration 186, loss = 3.27404460\n",
      "Iteration 187, loss = 3.26445309\n",
      "Iteration 188, loss = 3.27123705\n",
      "Iteration 189, loss = 3.26633977\n",
      "Iteration 190, loss = 3.26852819\n",
      "Iteration 191, loss = 3.26217892\n",
      "Iteration 192, loss = 3.26341607\n",
      "Iteration 193, loss = 3.26526472\n",
      "Iteration 194, loss = 3.27419750\n",
      "Iteration 195, loss = 3.25561439\n",
      "Iteration 196, loss = 3.24973043\n",
      "Iteration 197, loss = 3.25117448\n",
      "Iteration 198, loss = 3.25348838\n",
      "Iteration 199, loss = 3.24779809\n",
      "Iteration 200, loss = 3.25334250\n"
     ]
    },
    {
     "data": {
      "text/plain": [
       "MLPClassifier(hidden_layer_sizes=(6, 5), learning_rate_init=0.01,\n",
       "              random_state=5, verbose=True)"
      ]
     },
     "execution_count": 119,
     "metadata": {},
     "output_type": "execute_result"
    }
   ],
   "source": [
    "# Create model object\n",
    "clf = MLPClassifier(hidden_layer_sizes=(6,5),\n",
    "                    random_state=5,\n",
    "                    verbose= True,\n",
    "                    learning_rate_init=0.01)\n",
    "\n",
    "# Fit data onto the model\n",
    "clf.fit(Xtrain,ytrain)"
   ]
  },
  {
   "cell_type": "code",
   "execution_count": 120,
   "id": "dc9d5f27",
   "metadata": {},
   "outputs": [
    {
     "data": {
      "text/plain": [
       "0.01020408163265306"
      ]
     },
     "execution_count": 120,
     "metadata": {},
     "output_type": "execute_result"
    }
   ],
   "source": [
    "# Make prediction on test dataset\n",
    "ypred=clf.predict(Xtest)\n",
    "\n",
    "# Import accuracy score \n",
    "from sklearn.metrics import accuracy_score\n",
    "\n",
    "# Calcuate accuracy\n",
    "accuracy_score(ytest,ypred)"
   ]
  },
  {
   "cell_type": "markdown",
   "id": "3420fa0e",
   "metadata": {},
   "source": [
    "# a conclusion that could be made is that the capacity of these deep neural networks to generalize to new data is quite low. The accuracy scores were very low and this could be a result of underfitting occuring as the models may not have been trained on enough examples "
   ]
  },
  {
   "cell_type": "code",
   "execution_count": null,
   "id": "31644f4d",
   "metadata": {},
   "outputs": [],
   "source": []
  }
 ],
 "metadata": {
  "kernelspec": {
   "display_name": "Python 3 (ipykernel)",
   "language": "python",
   "name": "python3"
  },
  "language_info": {
   "codemirror_mode": {
    "name": "ipython",
    "version": 3
   },
   "file_extension": ".py",
   "mimetype": "text/x-python",
   "name": "python",
   "nbconvert_exporter": "python",
   "pygments_lexer": "ipython3",
   "version": "3.8.11"
  }
 },
 "nbformat": 4,
 "nbformat_minor": 5
}
